{
 "cells": [
  {
   "cell_type": "code",
   "execution_count": 1,
   "id": "071dde28",
   "metadata": {},
   "outputs": [
    {
     "data": {
      "text/html": [
       "<div>\n",
       "<style scoped>\n",
       "    .dataframe tbody tr th:only-of-type {\n",
       "        vertical-align: middle;\n",
       "    }\n",
       "\n",
       "    .dataframe tbody tr th {\n",
       "        vertical-align: top;\n",
       "    }\n",
       "\n",
       "    .dataframe thead th {\n",
       "        text-align: right;\n",
       "    }\n",
       "</style>\n",
       "<table border=\"1\" class=\"dataframe\">\n",
       "  <thead>\n",
       "    <tr style=\"text-align: right;\">\n",
       "      <th></th>\n",
       "      <th>PassengerId</th>\n",
       "      <th>Survived</th>\n",
       "      <th>Pclass</th>\n",
       "      <th>Name</th>\n",
       "      <th>Sex</th>\n",
       "      <th>Age</th>\n",
       "      <th>SibSp</th>\n",
       "      <th>Parch</th>\n",
       "      <th>Ticket</th>\n",
       "      <th>Fare</th>\n",
       "      <th>Cabin</th>\n",
       "      <th>Embarked</th>\n",
       "    </tr>\n",
       "  </thead>\n",
       "  <tbody>\n",
       "    <tr>\n",
       "      <th>0</th>\n",
       "      <td>1</td>\n",
       "      <td>0</td>\n",
       "      <td>3</td>\n",
       "      <td>Braund, Mr. Owen Harris</td>\n",
       "      <td>male</td>\n",
       "      <td>22.0</td>\n",
       "      <td>1</td>\n",
       "      <td>0</td>\n",
       "      <td>A/5 21171</td>\n",
       "      <td>7.2500</td>\n",
       "      <td>NaN</td>\n",
       "      <td>S</td>\n",
       "    </tr>\n",
       "    <tr>\n",
       "      <th>1</th>\n",
       "      <td>2</td>\n",
       "      <td>1</td>\n",
       "      <td>1</td>\n",
       "      <td>Cumings, Mrs. John Bradley (Florence Briggs Th...</td>\n",
       "      <td>female</td>\n",
       "      <td>38.0</td>\n",
       "      <td>1</td>\n",
       "      <td>0</td>\n",
       "      <td>PC 17599</td>\n",
       "      <td>71.2833</td>\n",
       "      <td>C85</td>\n",
       "      <td>C</td>\n",
       "    </tr>\n",
       "    <tr>\n",
       "      <th>2</th>\n",
       "      <td>3</td>\n",
       "      <td>1</td>\n",
       "      <td>3</td>\n",
       "      <td>Heikkinen, Miss. Laina</td>\n",
       "      <td>female</td>\n",
       "      <td>26.0</td>\n",
       "      <td>0</td>\n",
       "      <td>0</td>\n",
       "      <td>STON/O2. 3101282</td>\n",
       "      <td>7.9250</td>\n",
       "      <td>NaN</td>\n",
       "      <td>S</td>\n",
       "    </tr>\n",
       "    <tr>\n",
       "      <th>3</th>\n",
       "      <td>4</td>\n",
       "      <td>1</td>\n",
       "      <td>1</td>\n",
       "      <td>Futrelle, Mrs. Jacques Heath (Lily May Peel)</td>\n",
       "      <td>female</td>\n",
       "      <td>35.0</td>\n",
       "      <td>1</td>\n",
       "      <td>0</td>\n",
       "      <td>113803</td>\n",
       "      <td>53.1000</td>\n",
       "      <td>C123</td>\n",
       "      <td>S</td>\n",
       "    </tr>\n",
       "    <tr>\n",
       "      <th>4</th>\n",
       "      <td>5</td>\n",
       "      <td>0</td>\n",
       "      <td>3</td>\n",
       "      <td>Allen, Mr. William Henry</td>\n",
       "      <td>male</td>\n",
       "      <td>35.0</td>\n",
       "      <td>0</td>\n",
       "      <td>0</td>\n",
       "      <td>373450</td>\n",
       "      <td>8.0500</td>\n",
       "      <td>NaN</td>\n",
       "      <td>S</td>\n",
       "    </tr>\n",
       "  </tbody>\n",
       "</table>\n",
       "</div>"
      ],
      "text/plain": [
       "   PassengerId  Survived  Pclass  \\\n",
       "0            1         0       3   \n",
       "1            2         1       1   \n",
       "2            3         1       3   \n",
       "3            4         1       1   \n",
       "4            5         0       3   \n",
       "\n",
       "                                                Name     Sex   Age  SibSp  \\\n",
       "0                            Braund, Mr. Owen Harris    male  22.0      1   \n",
       "1  Cumings, Mrs. John Bradley (Florence Briggs Th...  female  38.0      1   \n",
       "2                             Heikkinen, Miss. Laina  female  26.0      0   \n",
       "3       Futrelle, Mrs. Jacques Heath (Lily May Peel)  female  35.0      1   \n",
       "4                           Allen, Mr. William Henry    male  35.0      0   \n",
       "\n",
       "   Parch            Ticket     Fare Cabin Embarked  \n",
       "0      0         A/5 21171   7.2500   NaN        S  \n",
       "1      0          PC 17599  71.2833   C85        C  \n",
       "2      0  STON/O2. 3101282   7.9250   NaN        S  \n",
       "3      0            113803  53.1000  C123        S  \n",
       "4      0            373450   8.0500   NaN        S  "
      ]
     },
     "execution_count": 1,
     "metadata": {},
     "output_type": "execute_result"
    }
   ],
   "source": [
    "import pandas as pd\n",
    "import seaborn as sns\n",
    "import numpy as np\n",
    "from matplotlib import pyplot as plt\n",
    "from sklearn.ensemble import RandomForestClassifier\n",
    "from sklearn.model_selection import GridSearchCV\n",
    "from sklearn.model_selection import train_test_split\n",
    "from sklearn.linear_model import LogisticRegression\n",
    "from sklearn.metrics import accuracy_score\n",
    "\n",
    "data=pd.read_csv(\"C:/Users/ranus/titanic/titanic/train.csv\")\n",
    "test=pd.read_csv(\"C:/Users/ranus/titanic/titanic/test.csv\")\n",
    "#target_train=data[\"Survived\"]\n",
    "#target_test=data[\"Survived\"]\n",
    "#del data[\"Survived\"]\n",
    "data.head()\n"
   ]
  },
  {
   "cell_type": "markdown",
   "id": "41bb0600",
   "metadata": {},
   "source": [
    "# Data analyse\n",
    "\n",
    "Nous allons tout d'abord effectuer une analyse de donnée pour avoir une vision d'ensemble des données.\n",
    "\n",
    "### Analyse de forme\n",
    "- **variable target** : La variable target est Survived\n",
    "- **dimension de la dataframe**: 891, 12\n",
    "- **type de données** : il y a 3 types de données dans cette dataframe des int, des float et des variables catégorique.\n",
    "- **valeurs manquantes** : les variables cabin, age et Embarked possèdent des valeurs manquantes. De plus la carte de chaleur ne semble pas montrer de lien entre les donnée manquantes\n",
    "\n",
    "### Analyse de fond\n",
    "- **Variable target** : Il s'agit d'une variable binaire avec une proportion de 0.6/0.4\n",
    "\n",
    "## Analyse de forme"
   ]
  },
  {
   "cell_type": "code",
   "execution_count": 2,
   "id": "d423af2a",
   "metadata": {},
   "outputs": [
    {
     "name": "stdout",
     "output_type": "stream",
     "text": [
      "<class 'pandas.core.frame.DataFrame'>\n",
      "RangeIndex: 891 entries, 0 to 890\n",
      "Data columns (total 12 columns):\n",
      " #   Column       Non-Null Count  Dtype  \n",
      "---  ------       --------------  -----  \n",
      " 0   PassengerId  891 non-null    int64  \n",
      " 1   Survived     891 non-null    int64  \n",
      " 2   Pclass       891 non-null    int64  \n",
      " 3   Name         891 non-null    object \n",
      " 4   Sex          891 non-null    object \n",
      " 5   Age          714 non-null    float64\n",
      " 6   SibSp        891 non-null    int64  \n",
      " 7   Parch        891 non-null    int64  \n",
      " 8   Ticket       891 non-null    object \n",
      " 9   Fare         891 non-null    float64\n",
      " 10  Cabin        204 non-null    object \n",
      " 11  Embarked     889 non-null    object \n",
      "dtypes: float64(2), int64(5), object(5)\n",
      "memory usage: 83.7+ KB\n"
     ]
    },
    {
     "data": {
      "text/plain": [
       "(891, 12)"
      ]
     },
     "execution_count": 2,
     "metadata": {},
     "output_type": "execute_result"
    }
   ],
   "source": [
    "df=data.copy() #on réalise une copie des données\n",
    "df.info() #on obtient des information interessante\n",
    "df.shape"
   ]
  },
  {
   "cell_type": "code",
   "execution_count": 3,
   "id": "f0a5204a",
   "metadata": {},
   "outputs": [
    {
     "data": {
      "text/plain": [
       "PassengerId      0\n",
       "Survived         0\n",
       "Pclass           0\n",
       "Name             0\n",
       "Sex              0\n",
       "Age            177\n",
       "SibSp            0\n",
       "Parch            0\n",
       "Ticket           0\n",
       "Fare             0\n",
       "Cabin          687\n",
       "Embarked         2\n",
       "dtype: int64"
      ]
     },
     "execution_count": 3,
     "metadata": {},
     "output_type": "execute_result"
    }
   ],
   "source": [
    "df.isna().sum()\n"
   ]
  },
  {
   "cell_type": "code",
   "execution_count": 4,
   "id": "aec4f775",
   "metadata": {},
   "outputs": [
    {
     "data": {
      "text/plain": [
       "<AxesSubplot:>"
      ]
     },
     "execution_count": 4,
     "metadata": {},
     "output_type": "execute_result"
    },
    {
     "data": {
      "image/png": "[encoded data removed]",
      "text/plain": [
       "<Figure size 2160x1080 with 2 Axes>"
      ]
     },
     "metadata": {
      "needs_background": "light"
     },
     "output_type": "display_data"
    }
   ],
   "source": [
    "plt.figure(figsize=(30,15))\n",
    "sns.heatmap(df.isna())"
   ]
  },
  {
   "cell_type": "code",
   "execution_count": 5,
   "id": "eef40009",
   "metadata": {},
   "outputs": [
    {
     "data": {
      "text/plain": [
       "Cabin          0.771044\n",
       "Age            0.198653\n",
       "Embarked       0.002245\n",
       "PassengerId    0.000000\n",
       "Survived       0.000000\n",
       "Pclass         0.000000\n",
       "Name           0.000000\n",
       "Sex            0.000000\n",
       "SibSp          0.000000\n",
       "Parch          0.000000\n",
       "Ticket         0.000000\n",
       "Fare           0.000000\n",
       "dtype: float64"
      ]
     },
     "execution_count": 5,
     "metadata": {},
     "output_type": "execute_result"
    }
   ],
   "source": [
    "(df.isna().sum()/df.shape[0]).sort_values(ascending=False) # on affiche le pourcentage de valeur manquante"
   ]
  },
  {
   "cell_type": "markdown",
   "id": "546f6790",
   "metadata": {},
   "source": [
    "Aucune variable n'a plus de 90% de valeurs manquantes, on garde donc toutes les colonnes."
   ]
  },
  {
   "cell_type": "markdown",
   "id": "5a6a62d2",
   "metadata": {},
   "source": [
    "## Analyse de fond"
   ]
  },
  {
   "cell_type": "code",
   "execution_count": 6,
   "id": "a29fce34",
   "metadata": {},
   "outputs": [
    {
     "data": {
      "text/plain": [
       "<AxesSubplot:>"
      ]
     },
     "execution_count": 6,
     "metadata": {},
     "output_type": "execute_result"
    },
    {
     "data": {
      "image/png": "[encoded data removed]",
      "text/plain": [
       "<Figure size 432x288 with 1 Axes>"
      ]
     },
     "metadata": {
      "needs_background": "light"
     },
     "output_type": "display_data"
    }
   ],
   "source": [
    "target='Survived'\n",
    "df[target].value_counts(normalize=True).hist()"
   ]
  },
  {
   "cell_type": "markdown",
   "id": "de697a6c",
   "metadata": {},
   "source": [
    "### Variables quantitatif"
   ]
  },
  {
   "cell_type": "code",
   "execution_count": 7,
   "id": "51b8cecf",
   "metadata": {},
   "outputs": [
    {
     "name": "stderr",
     "output_type": "stream",
     "text": [
      "C:\\Users\\ranus\\anaconda3\\lib\\site-packages\\seaborn\\distributions.py:2619: FutureWarning: `distplot` is a deprecated function and will be removed in a future version. Please adapt your code to use either `displot` (a figure-level function with similar flexibility) or `histplot` (an axes-level function for histograms).\n",
      "  warnings.warn(msg, FutureWarning)\n",
      "C:\\Users\\ranus\\anaconda3\\lib\\site-packages\\seaborn\\distributions.py:2619: FutureWarning: `distplot` is a deprecated function and will be removed in a future version. Please adapt your code to use either `displot` (a figure-level function with similar flexibility) or `histplot` (an axes-level function for histograms).\n",
      "  warnings.warn(msg, FutureWarning)\n",
      "C:\\Users\\ranus\\anaconda3\\lib\\site-packages\\seaborn\\distributions.py:2619: FutureWarning: `distplot` is a deprecated function and will be removed in a future version. Please adapt your code to use either `displot` (a figure-level function with similar flexibility) or `histplot` (an axes-level function for histograms).\n",
      "  warnings.warn(msg, FutureWarning)\n",
      "C:\\Users\\ranus\\anaconda3\\lib\\site-packages\\seaborn\\distributions.py:2619: FutureWarning: `distplot` is a deprecated function and will be removed in a future version. Please adapt your code to use either `displot` (a figure-level function with similar flexibility) or `histplot` (an axes-level function for histograms).\n",
      "  warnings.warn(msg, FutureWarning)\n",
      "C:\\Users\\ranus\\anaconda3\\lib\\site-packages\\seaborn\\distributions.py:2619: FutureWarning: `distplot` is a deprecated function and will be removed in a future version. Please adapt your code to use either `displot` (a figure-level function with similar flexibility) or `histplot` (an axes-level function for histograms).\n",
      "  warnings.warn(msg, FutureWarning)\n"
     ]
    },
    {
     "data": {
      "image/png": "[encoded data removed]",
      "text/plain": [
       "<Figure size 432x288 with 1 Axes>"
      ]
     },
     "metadata": {
      "needs_background": "light"
     },
     "output_type": "display_data"
    },
    {
     "data": {
      "image/png": "[encoded data removed]",
      "text/plain": [
       "<Figure size 432x288 with 1 Axes>"
      ]
     },
     "metadata": {
      "needs_background": "light"
     },
     "output_type": "display_data"
    },
    {
     "data": {
      "image/png": "[encoded data removed]",
      "text/plain": [
       "<Figure size 432x288 with 1 Axes>"
      ]
     },
     "metadata": {
      "needs_background": "light"
     },
     "output_type": "display_data"
    },
    {
     "data": {
      "image/png": "[encoded data removed]",
      "text/plain": [
       "<Figure size 432x288 with 1 Axes>"
      ]
     },
     "metadata": {
      "needs_background": "light"
     },
     "output_type": "display_data"
    },
    {
     "data": {
      "image/png": "[encoded data removed]",
      "text/plain": [
       "<Figure size 432x288 with 1 Axes>"
      ]
     },
     "metadata": {
      "needs_background": "light"
     },
     "output_type": "display_data"
    }
   ],
   "source": [
    "for col in df.select_dtypes('int64'):\n",
    "    plt.figure()\n",
    "    sns.distplot(df[col])"
   ]
  },
  {
   "cell_type": "code",
   "execution_count": 8,
   "id": "4985e8df",
   "metadata": {},
   "outputs": [
    {
     "data": {
      "text/plain": [
       "<Figure size 432x288 with 0 Axes>"
      ]
     },
     "metadata": {},
     "output_type": "display_data"
    },
    {
     "data": {
      "image/png": "[encoded data removed]",
      "text/plain": [
       "<Figure size 360x360 with 1 Axes>"
      ]
     },
     "metadata": {
      "needs_background": "light"
     },
     "output_type": "display_data"
    },
    {
     "data": {
      "text/plain": [
       "<Figure size 432x288 with 0 Axes>"
      ]
     },
     "metadata": {},
     "output_type": "display_data"
    },
    {
     "data": {
      "image/png": "[encoded data removed]",
      "text/plain": [
       "<Figure size 360x360 with 1 Axes>"
      ]
     },
     "metadata": {
      "needs_background": "light"
     },
     "output_type": "display_data"
    }
   ],
   "source": [
    "for col in df.select_dtypes('float64'):\n",
    "    plt.figure()\n",
    "    sns.displot(df[col])"
   ]
  },
  {
   "cell_type": "markdown",
   "id": "78343ae4",
   "metadata": {},
   "source": [
    "On constate que les 2 derniers histogramme ont des piques en 0, de plus l'histogramme variable age forme la densité d'une loi gaussienne.\n",
    "Le graphe de la variable PassengerId forme une loi uniforme ce qui est normale étant donnée qu'elle caractérise les observations."
   ]
  },
  {
   "cell_type": "markdown",
   "id": "65a99535",
   "metadata": {},
   "source": [
    "### Variable qualitatif\n",
    "\n",
    "On va tout d'abord afficher les différentes catégorie puis on va afficher leurs graphes"
   ]
  },
  {
   "cell_type": "code",
   "execution_count": 9,
   "id": "18381827",
   "metadata": {},
   "outputs": [
    {
     "name": "stdout",
     "output_type": "stream",
     "text": [
      " Name--------------------------------------------------------  ['Braund, Mr. Owen Harris'\n",
      " 'Cumings, Mrs. John Bradley (Florence Briggs Thayer)'\n",
      " 'Heikkinen, Miss. Laina' 'Futrelle, Mrs. Jacques Heath (Lily May Peel)'\n",
      " 'Allen, Mr. William Henry' 'Moran, Mr. James' 'McCarthy, Mr. Timothy J'\n",
      " 'Palsson, Master. Gosta Leonard'\n",
      " 'Johnson, Mrs. Oscar W (Elisabeth Vilhelmina Berg)'\n",
      " 'Nasser, Mrs. Nicholas (Adele Achem)' 'Sandstrom, Miss. Marguerite Rut'\n",
      " 'Bonnell, Miss. Elizabeth' 'Saundercock, Mr. William Henry'\n",
      " 'Andersson, Mr. Anders Johan' 'Vestrom, Miss. Hulda Amanda Adolfina'\n",
      " 'Hewlett, Mrs. (Mary D Kingcome) ' 'Rice, Master. Eugene'\n",
      " 'Williams, Mr. Charles Eugene'\n",
      " 'Vander Planke, Mrs. Julius (Emelia Maria Vandemoortele)'\n",
      " 'Masselmani, Mrs. Fatima' 'Fynney, Mr. Joseph J' 'Beesley, Mr. Lawrence'\n",
      " 'McGowan, Miss. Anna \"Annie\"' 'Sloper, Mr. William Thompson'\n",
      " 'Palsson, Miss. Torborg Danira'\n",
      " 'Asplund, Mrs. Carl Oscar (Selma Augusta Emilia Johansson)'\n",
      " 'Emir, Mr. Farred Chehab' 'Fortune, Mr. Charles Alexander'\n",
      " 'O\\'Dwyer, Miss. Ellen \"Nellie\"' 'Todoroff, Mr. Lalio'\n",
      " 'Uruchurtu, Don. Manuel E'\n",
      " 'Spencer, Mrs. William Augustus (Marie Eugenie)'\n",
      " 'Glynn, Miss. Mary Agatha' 'Wheadon, Mr. Edward H'\n",
      " 'Meyer, Mr. Edgar Joseph' 'Holverson, Mr. Alexander Oskar'\n",
      " 'Mamee, Mr. Hanna' 'Cann, Mr. Ernest Charles'\n",
      " 'Vander Planke, Miss. Augusta Maria' 'Nicola-Yarred, Miss. Jamila'\n",
      " 'Ahlin, Mrs. Johan (Johanna Persdotter Larsson)'\n",
      " 'Turpin, Mrs. William John Robert (Dorothy Ann Wonnacott)'\n",
      " 'Kraeff, Mr. Theodor' 'Laroche, Miss. Simonne Marie Anne Andree'\n",
      " 'Devaney, Miss. Margaret Delia' 'Rogers, Mr. William John'\n",
      " 'Lennon, Mr. Denis' \"O'Driscoll, Miss. Bridget\" 'Samaan, Mr. Youssef'\n",
      " 'Arnold-Franchi, Mrs. Josef (Josefine Franchi)'\n",
      " 'Panula, Master. Juha Niilo' 'Nosworthy, Mr. Richard Cater'\n",
      " 'Harper, Mrs. Henry Sleeper (Myna Haxtun)'\n",
      " 'Faunthorpe, Mrs. Lizzie (Elizabeth Anne Wilkinson)'\n",
      " 'Ostby, Mr. Engelhart Cornelius' 'Woolner, Mr. Hugh' 'Rugg, Miss. Emily'\n",
      " 'Novel, Mr. Mansouer' 'West, Miss. Constance Mirium'\n",
      " 'Goodwin, Master. William Frederick' 'Sirayanian, Mr. Orsen'\n",
      " 'Icard, Miss. Amelie' 'Harris, Mr. Henry Birkhardt'\n",
      " 'Skoog, Master. Harald' 'Stewart, Mr. Albert A'\n",
      " 'Moubarek, Master. Gerios' 'Nye, Mrs. (Elizabeth Ramell)'\n",
      " 'Crease, Mr. Ernest James' 'Andersson, Miss. Erna Alexandra'\n",
      " 'Kink, Mr. Vincenz' 'Jenkin, Mr. Stephen Curnow'\n",
      " 'Goodwin, Miss. Lillian Amy' 'Hood, Mr. Ambrose Jr'\n",
      " 'Chronopoulos, Mr. Apostolos' 'Bing, Mr. Lee' 'Moen, Mr. Sigurd Hansen'\n",
      " 'Staneff, Mr. Ivan' 'Moutal, Mr. Rahamin Haim'\n",
      " 'Caldwell, Master. Alden Gates' 'Dowdell, Miss. Elizabeth'\n",
      " 'Waelens, Mr. Achille' 'Sheerlinck, Mr. Jan Baptist'\n",
      " 'McDermott, Miss. Brigdet Delia' 'Carrau, Mr. Francisco M'\n",
      " 'Ilett, Miss. Bertha'\n",
      " 'Backstrom, Mrs. Karl Alfred (Maria Mathilda Gustafsson)'\n",
      " 'Ford, Mr. William Neal' 'Slocovski, Mr. Selman Francis'\n",
      " 'Fortune, Miss. Mabel Helen' 'Celotti, Mr. Francesco'\n",
      " 'Christmann, Mr. Emil' 'Andreasson, Mr. Paul Edvin'\n",
      " 'Chaffee, Mr. Herbert Fuller' 'Dean, Mr. Bertram Frank'\n",
      " 'Coxon, Mr. Daniel' 'Shorney, Mr. Charles Joseph'\n",
      " 'Goldschmidt, Mr. George B' 'Greenfield, Mr. William Bertram'\n",
      " 'Doling, Mrs. John T (Ada Julia Bone)' 'Kantor, Mr. Sinai'\n",
      " 'Petranec, Miss. Matilda' 'Petroff, Mr. Pastcho (\"Pentcho\")'\n",
      " 'White, Mr. Richard Frasar' 'Johansson, Mr. Gustaf Joel'\n",
      " 'Gustafsson, Mr. Anders Vilhelm' 'Mionoff, Mr. Stoytcho'\n",
      " 'Salkjelsvik, Miss. Anna Kristine' 'Moss, Mr. Albert Johan'\n",
      " 'Rekic, Mr. Tido' 'Moran, Miss. Bertha' 'Porter, Mr. Walter Chamberlain'\n",
      " 'Zabour, Miss. Hileni' 'Barton, Mr. David John' 'Jussila, Miss. Katriina'\n",
      " 'Attalah, Miss. Malake' 'Pekoniemi, Mr. Edvard' 'Connors, Mr. Patrick'\n",
      " 'Turpin, Mr. William John Robert' 'Baxter, Mr. Quigg Edmond'\n",
      " 'Andersson, Miss. Ellis Anna Maria' 'Hickman, Mr. Stanley George'\n",
      " 'Moore, Mr. Leonard Charles' 'Nasser, Mr. Nicholas' 'Webber, Miss. Susan'\n",
      " 'White, Mr. Percival Wayland' 'Nicola-Yarred, Master. Elias'\n",
      " 'McMahon, Mr. Martin' 'Madsen, Mr. Fridtjof Arne' 'Peter, Miss. Anna'\n",
      " 'Ekstrom, Mr. Johan' 'Drazenoic, Mr. Jozef'\n",
      " 'Coelho, Mr. Domingos Fernandeo'\n",
      " 'Robins, Mrs. Alexander A (Grace Charity Laury)'\n",
      " 'Weisz, Mrs. Leopold (Mathilde Francoise Pede)'\n",
      " 'Sobey, Mr. Samuel James Hayden' 'Richard, Mr. Emile'\n",
      " 'Newsom, Miss. Helen Monypeny' 'Futrelle, Mr. Jacques Heath'\n",
      " 'Osen, Mr. Olaf Elon' 'Giglio, Mr. Victor'\n",
      " 'Boulos, Mrs. Joseph (Sultana)' 'Nysten, Miss. Anna Sofia'\n",
      " 'Hakkarainen, Mrs. Pekka Pietari (Elin Matilda Dolck)'\n",
      " 'Burke, Mr. Jeremiah' 'Andrew, Mr. Edgardo Samuel'\n",
      " 'Nicholls, Mr. Joseph Charles'\n",
      " 'Andersson, Mr. August Edvard (\"Wennerstrom\")'\n",
      " 'Ford, Miss. Robina Maggie \"Ruby\"'\n",
      " 'Navratil, Mr. Michel (\"Louis M Hoffman\")'\n",
      " 'Byles, Rev. Thomas Roussel Davids' 'Bateman, Rev. Robert James'\n",
      " 'Pears, Mrs. Thomas (Edith Wearne)' 'Meo, Mr. Alfonzo'\n",
      " 'van Billiard, Mr. Austin Blyler' 'Olsen, Mr. Ole Martin'\n",
      " 'Williams, Mr. Charles Duane' 'Gilnagh, Miss. Katherine \"Katie\"'\n",
      " 'Corn, Mr. Harry' 'Smiljanic, Mr. Mile' 'Sage, Master. Thomas Henry'\n",
      " 'Cribb, Mr. John Hatfield'\n",
      " 'Watt, Mrs. James (Elizabeth \"Bessie\" Inglis Milne)'\n",
      " 'Bengtsson, Mr. John Viktor' 'Calic, Mr. Jovo'\n",
      " 'Panula, Master. Eino Viljami'\n",
      " 'Goldsmith, Master. Frank John William \"Frankie\"'\n",
      " 'Chibnall, Mrs. (Edith Martha Bowerman)'\n",
      " 'Skoog, Mrs. William (Anna Bernhardina Karlsson)' 'Baumann, Mr. John D'\n",
      " 'Ling, Mr. Lee' 'Van der hoef, Mr. Wyckoff' 'Rice, Master. Arthur'\n",
      " 'Johnson, Miss. Eleanor Ileen' 'Sivola, Mr. Antti Wilhelm'\n",
      " 'Smith, Mr. James Clinch' 'Klasen, Mr. Klas Albin'\n",
      " 'Lefebre, Master. Henry Forbes' 'Isham, Miss. Ann Elizabeth'\n",
      " 'Hale, Mr. Reginald' 'Leonard, Mr. Lionel' 'Sage, Miss. Constance Gladys'\n",
      " 'Pernot, Mr. Rene' 'Asplund, Master. Clarence Gustaf Hugo'\n",
      " 'Becker, Master. Richard F' 'Kink-Heilmann, Miss. Luise Gretchen'\n",
      " 'Rood, Mr. Hugh Roscoe'\n",
      " 'O\\'Brien, Mrs. Thomas (Johanna \"Hannah\" Godfrey)'\n",
      " 'Romaine, Mr. Charles Hallace (\"Mr C Rolmane\")' 'Bourke, Mr. John'\n",
      " 'Turcin, Mr. Stjepan' 'Pinsky, Mrs. (Rosa)' 'Carbines, Mr. William'\n",
      " 'Andersen-Jensen, Miss. Carla Christine Nielsine'\n",
      " 'Navratil, Master. Michel M' 'Brown, Mrs. James Joseph (Margaret Tobin)'\n",
      " 'Lurette, Miss. Elise' 'Mernagh, Mr. Robert'\n",
      " 'Olsen, Mr. Karl Siegwart Andreas' 'Madigan, Miss. Margaret \"Maggie\"'\n",
      " 'Yrois, Miss. Henriette (\"Mrs Harbeck\")' 'Vande Walle, Mr. Nestor Cyriel'\n",
      " 'Sage, Mr. Frederick' 'Johanson, Mr. Jakob Alfred' 'Youseff, Mr. Gerious'\n",
      " 'Cohen, Mr. Gurshon \"Gus\"' 'Strom, Miss. Telma Matilda'\n",
      " 'Backstrom, Mr. Karl Alfred' 'Albimona, Mr. Nassef Cassem'\n",
      " 'Carr, Miss. Helen \"Ellen\"' 'Blank, Mr. Henry' 'Ali, Mr. Ahmed'\n",
      " 'Cameron, Miss. Clear Annie' 'Perkin, Mr. John Henry'\n",
      " 'Givard, Mr. Hans Kristensen' 'Kiernan, Mr. Philip'\n",
      " 'Newell, Miss. Madeleine' 'Honkanen, Miss. Eliina'\n",
      " 'Jacobsohn, Mr. Sidney Samuel' 'Bazzani, Miss. Albina'\n",
      " 'Harris, Mr. Walter' 'Sunderland, Mr. Victor Francis'\n",
      " 'Bracken, Mr. James H' 'Green, Mr. George Henry' 'Nenkoff, Mr. Christo'\n",
      " 'Hoyt, Mr. Frederick Maxfield' 'Berglund, Mr. Karl Ivar Sven'\n",
      " 'Mellors, Mr. William John' 'Lovell, Mr. John Hall (\"Henry\")'\n",
      " 'Fahlstrom, Mr. Arne Jonas' 'Lefebre, Miss. Mathilde'\n",
      " 'Harris, Mrs. Henry Birkhardt (Irene Wallach)' 'Larsson, Mr. Bengt Edvin'\n",
      " 'Sjostedt, Mr. Ernst Adolf' 'Asplund, Miss. Lillian Gertrud'\n",
      " 'Leyson, Mr. Robert William Norman' 'Harknett, Miss. Alice Phoebe'\n",
      " 'Hold, Mr. Stephen' 'Collyer, Miss. Marjorie \"Lottie\"'\n",
      " 'Pengelly, Mr. Frederick William' 'Hunt, Mr. George Henry'\n",
      " 'Zabour, Miss. Thamine' 'Murphy, Miss. Katherine \"Kate\"'\n",
      " 'Coleridge, Mr. Reginald Charles' 'Maenpaa, Mr. Matti Alexanteri'\n",
      " 'Attalah, Mr. Sleiman' 'Minahan, Dr. William Edward'\n",
      " 'Lindahl, Miss. Agda Thorilda Viktoria' 'Hamalainen, Mrs. William (Anna)'\n",
      " 'Beckwith, Mr. Richard Leonard' 'Carter, Rev. Ernest Courtenay'\n",
      " 'Reed, Mr. James George' 'Strom, Mrs. Wilhelm (Elna Matilda Persson)'\n",
      " 'Stead, Mr. William Thomas' 'Lobb, Mr. William Arthur'\n",
      " 'Rosblom, Mrs. Viktor (Helena Wilhelmina)'\n",
      " 'Touma, Mrs. Darwis (Hanne Youssef Razi)'\n",
      " 'Thorne, Mrs. Gertrude Maybelle' 'Cherry, Miss. Gladys'\n",
      " 'Ward, Miss. Anna' 'Parrish, Mrs. (Lutie Davis)' 'Smith, Mr. Thomas'\n",
      " 'Asplund, Master. Edvin Rojj Felix' 'Taussig, Mr. Emil'\n",
      " 'Harrison, Mr. William' 'Henry, Miss. Delia' 'Reeves, Mr. David'\n",
      " 'Panula, Mr. Ernesti Arvid' 'Persson, Mr. Ernst Ulrik'\n",
      " 'Graham, Mrs. William Thompson (Edith Junkins)' 'Bissette, Miss. Amelia'\n",
      " 'Cairns, Mr. Alexander' 'Tornquist, Mr. William Henry'\n",
      " 'Mellinger, Mrs. (Elizabeth Anne Maidment)' 'Natsch, Mr. Charles H'\n",
      " 'Healy, Miss. Hanora \"Nora\"' 'Andrews, Miss. Kornelia Theodosia'\n",
      " 'Lindblom, Miss. Augusta Charlotta' 'Parkes, Mr. Francis \"Frank\"'\n",
      " 'Rice, Master. Eric' 'Abbott, Mrs. Stanton (Rosa Hunt)'\n",
      " 'Duane, Mr. Frank' 'Olsson, Mr. Nils Johan Goransson'\n",
      " 'de Pelsmaeker, Mr. Alfons' 'Dorking, Mr. Edward Arthur'\n",
      " 'Smith, Mr. Richard William' 'Stankovic, Mr. Ivan'\n",
      " 'de Mulder, Mr. Theodore' 'Naidenoff, Mr. Penko' 'Hosono, Mr. Masabumi'\n",
      " 'Connolly, Miss. Kate' 'Barber, Miss. Ellen \"Nellie\"'\n",
      " 'Bishop, Mrs. Dickinson H (Helen Walton)' 'Levy, Mr. Rene Jacques'\n",
      " 'Haas, Miss. Aloisia' 'Mineff, Mr. Ivan' 'Lewy, Mr. Ervin G'\n",
      " 'Hanna, Mr. Mansour' 'Allison, Miss. Helen Loraine'\n",
      " 'Saalfeld, Mr. Adolphe' 'Baxter, Mrs. James (Helene DeLaudeniere Chaput)'\n",
      " 'Kelly, Miss. Anna Katherine \"Annie Kate\"' 'McCoy, Mr. Bernard'\n",
      " 'Johnson, Mr. William Cahoone Jr' 'Keane, Miss. Nora A'\n",
      " 'Williams, Mr. Howard Hugh \"Harry\"' 'Allison, Master. Hudson Trevor'\n",
      " 'Fleming, Miss. Margaret'\n",
      " 'Penasco y Castellana, Mrs. Victor de Satode (Maria Josefa Perez de Soto y Vallejo)'\n",
      " 'Abelson, Mr. Samuel' 'Francatelli, Miss. Laura Mabel'\n",
      " 'Hays, Miss. Margaret Bechstein' 'Ryerson, Miss. Emily Borie'\n",
      " 'Lahtinen, Mrs. William (Anna Sylfven)' 'Hendekovic, Mr. Ignjac'\n",
      " 'Hart, Mr. Benjamin' 'Nilsson, Miss. Helmina Josefina'\n",
      " 'Kantor, Mrs. Sinai (Miriam Sternin)' 'Moraweck, Dr. Ernest'\n",
      " 'Wick, Miss. Mary Natalie'\n",
      " 'Spedden, Mrs. Frederic Oakley (Margaretta Corning Stone)'\n",
      " 'Dennis, Mr. Samuel' 'Danoff, Mr. Yoto' 'Slayter, Miss. Hilda Mary'\n",
      " 'Caldwell, Mrs. Albert Francis (Sylvia Mae Harbaugh)'\n",
      " 'Sage, Mr. George John Jr' 'Young, Miss. Marie Grice'\n",
      " 'Nysveen, Mr. Johan Hansen' 'Ball, Mrs. (Ada E Hall)'\n",
      " 'Goldsmith, Mrs. Frank John (Emily Alice Brown)'\n",
      " 'Hippach, Miss. Jean Gertrude' 'McCoy, Miss. Agnes' 'Partner, Mr. Austen'\n",
      " 'Graham, Mr. George Edward' 'Vander Planke, Mr. Leo Edmondus'\n",
      " 'Frauenthal, Mrs. Henry William (Clara Heinsheimer)' 'Denkoff, Mr. Mitto'\n",
      " 'Pears, Mr. Thomas Clinton' 'Burns, Miss. Elizabeth Margaret'\n",
      " 'Dahl, Mr. Karl Edwart' 'Blackwell, Mr. Stephen Weart'\n",
      " 'Navratil, Master. Edmond Roger' 'Fortune, Miss. Alice Elizabeth'\n",
      " 'Collander, Mr. Erik Gustaf' 'Sedgwick, Mr. Charles Frederick Waddington'\n",
      " 'Fox, Mr. Stanley Hubert' 'Brown, Miss. Amelia \"Mildred\"'\n",
      " 'Smith, Miss. Marion Elsie' 'Davison, Mrs. Thomas Henry (Mary E Finck)'\n",
      " 'Coutts, Master. William Loch \"William\"' 'Dimic, Mr. Jovan'\n",
      " 'Odahl, Mr. Nils Martin' 'Williams-Lambert, Mr. Fletcher Fellows'\n",
      " 'Elias, Mr. Tannous' 'Arnold-Franchi, Mr. Josef' 'Yousif, Mr. Wazli'\n",
      " 'Vanden Steen, Mr. Leo Peter' 'Bowerman, Miss. Elsie Edith'\n",
      " 'Funk, Miss. Annie Clemmer' 'McGovern, Miss. Mary'\n",
      " 'Mockler, Miss. Helen Mary \"Ellie\"' 'Skoog, Mr. Wilhelm'\n",
      " 'del Carlo, Mr. Sebastiano' 'Barbara, Mrs. (Catherine David)'\n",
      " 'Asim, Mr. Adola' \"O'Brien, Mr. Thomas\" 'Adahl, Mr. Mauritz Nils Martin'\n",
      " 'Warren, Mrs. Frank Manley (Anna Sophia Atkinson)'\n",
      " 'Moussa, Mrs. (Mantoura Boulos)' 'Jermyn, Miss. Annie'\n",
      " 'Aubart, Mme. Leontine Pauline' 'Harder, Mr. George Achilles'\n",
      " 'Wiklund, Mr. Jakob Alfred' 'Beavan, Mr. William Thomas'\n",
      " 'Ringhini, Mr. Sante' 'Palsson, Miss. Stina Viola'\n",
      " 'Meyer, Mrs. Edgar Joseph (Leila Saks)' 'Landergren, Miss. Aurora Adelia'\n",
      " 'Widener, Mr. Harry Elkins' 'Betros, Mr. Tannous'\n",
      " 'Gustafsson, Mr. Karl Gideon' 'Bidois, Miss. Rosalie'\n",
      " 'Nakid, Miss. Maria (\"Mary\")' 'Tikkanen, Mr. Juho'\n",
      " 'Holverson, Mrs. Alexander Oskar (Mary Aline Towner)'\n",
      " 'Plotcharsky, Mr. Vasil' 'Davies, Mr. Charles Henry'\n",
      " 'Goodwin, Master. Sidney Leonard' 'Buss, Miss. Kate'\n",
      " 'Sadlier, Mr. Matthew' 'Lehmann, Miss. Bertha'\n",
      " 'Carter, Mr. William Ernest' 'Jansson, Mr. Carl Olof'\n",
      " 'Gustafsson, Mr. Johan Birger' 'Newell, Miss. Marjorie'\n",
      " 'Sandstrom, Mrs. Hjalmar (Agnes Charlotta Bengtsson)'\n",
      " 'Johansson, Mr. Erik' 'Olsson, Miss. Elina' 'McKane, Mr. Peter David'\n",
      " 'Pain, Dr. Alfred' 'Trout, Mrs. William H (Jessie L)'\n",
      " 'Niskanen, Mr. Juha' 'Adams, Mr. John' 'Jussila, Miss. Mari Aina'\n",
      " 'Hakkarainen, Mr. Pekka Pietari' 'Oreskovic, Miss. Marija'\n",
      " 'Gale, Mr. Shadrach' 'Widegren, Mr. Carl/Charles Peter'\n",
      " 'Richards, Master. William Rowe' 'Birkeland, Mr. Hans Martin Monsen'\n",
      " 'Lefebre, Miss. Ida' 'Sdycoff, Mr. Todor' 'Hart, Mr. Henry'\n",
      " 'Minahan, Miss. Daisy E' 'Cunningham, Mr. Alfred Fleming'\n",
      " 'Sundman, Mr. Johan Julian' 'Meek, Mrs. Thomas (Annie Louise Rowley)'\n",
      " 'Drew, Mrs. James Vivian (Lulu Thorne Christian)'\n",
      " 'Silven, Miss. Lyyli Karoliina' 'Matthews, Mr. William John'\n",
      " 'Van Impe, Miss. Catharina' 'Gheorgheff, Mr. Stanio'\n",
      " 'Charters, Mr. David' 'Zimmerman, Mr. Leo'\n",
      " 'Danbom, Mrs. Ernst Gilbert (Anna Sigrid Maria Brogren)'\n",
      " 'Rosblom, Mr. Viktor Richard' 'Wiseman, Mr. Phillippe'\n",
      " 'Clarke, Mrs. Charles V (Ada Maria Winfield)'\n",
      " 'Phillips, Miss. Kate Florence (\"Mrs Kate Louise Phillips Marshall\")'\n",
      " 'Flynn, Mr. James' 'Pickard, Mr. Berk (Berk Trembisky)'\n",
      " 'Bjornstrom-Steffansson, Mr. Mauritz Hakan'\n",
      " 'Thorneycroft, Mrs. Percival (Florence Kate White)'\n",
      " 'Louch, Mrs. Charles Alexander (Alice Adelaide Slow)'\n",
      " 'Kallio, Mr. Nikolai Erland' 'Silvey, Mr. William Baird'\n",
      " 'Carter, Miss. Lucile Polk' 'Ford, Miss. Doolina Margaret \"Daisy\"'\n",
      " 'Richards, Mrs. Sidney (Emily Hocking)' 'Fortune, Mr. Mark'\n",
      " 'Kvillner, Mr. Johan Henrik Johannesson'\n",
      " 'Hart, Mrs. Benjamin (Esther Ada Bloomfield)' 'Hampe, Mr. Leon'\n",
      " 'Petterson, Mr. Johan Emil' 'Reynaldo, Ms. Encarnacion'\n",
      " 'Johannesen-Bratthammer, Mr. Bernt' 'Dodge, Master. Washington'\n",
      " 'Mellinger, Miss. Madeleine Violet' 'Seward, Mr. Frederic Kimber'\n",
      " 'Baclini, Miss. Marie Catherine' 'Peuchen, Major. Arthur Godfrey'\n",
      " 'West, Mr. Edwy Arthur' 'Hagland, Mr. Ingvald Olai Olsen'\n",
      " 'Foreman, Mr. Benjamin Laventall' 'Goldenberg, Mr. Samuel L'\n",
      " 'Peduzzi, Mr. Joseph' 'Jalsevac, Mr. Ivan' 'Millet, Mr. Francis Davis'\n",
      " 'Kenyon, Mrs. Frederick R (Marion)' 'Toomey, Miss. Ellen'\n",
      " \"O'Connor, Mr. Maurice\" 'Anderson, Mr. Harry' 'Morley, Mr. William'\n",
      " 'Gee, Mr. Arthur H' 'Milling, Mr. Jacob Christian' 'Maisner, Mr. Simon'\n",
      " 'Goncalves, Mr. Manuel Estanslas' 'Campbell, Mr. William'\n",
      " 'Smart, Mr. John Montgomery' 'Scanlan, Mr. James'\n",
      " 'Baclini, Miss. Helene Barbara' 'Keefe, Mr. Arthur' 'Cacic, Mr. Luka'\n",
      " 'West, Mrs. Edwy Arthur (Ada Mary Worth)'\n",
      " 'Jerwan, Mrs. Amin S (Marie Marthe Thuillard)'\n",
      " 'Strandberg, Miss. Ida Sofia' 'Clifford, Mr. George Quincy'\n",
      " 'Renouf, Mr. Peter Henry' 'Braund, Mr. Lewis Richard'\n",
      " 'Karlsson, Mr. Nils August' 'Hirvonen, Miss. Hildur E'\n",
      " 'Goodwin, Master. Harold Victor' 'Frost, Mr. Anthony Wood \"Archie\"'\n",
      " 'Rouse, Mr. Richard Henry' 'Turkula, Mrs. (Hedwig)'\n",
      " 'Bishop, Mr. Dickinson H' 'Lefebre, Miss. Jeannie'\n",
      " 'Hoyt, Mrs. Frederick Maxfield (Jane Anne Forby)'\n",
      " 'Kent, Mr. Edward Austin' 'Somerton, Mr. Francis William'\n",
      " 'Coutts, Master. Eden Leslie \"Neville\"'\n",
      " 'Hagland, Mr. Konrad Mathias Reiersen' 'Windelov, Mr. Einar'\n",
      " 'Molson, Mr. Harry Markland' 'Artagaveytia, Mr. Ramon'\n",
      " 'Stanley, Mr. Edward Roland' 'Yousseff, Mr. Gerious'\n",
      " 'Eustis, Miss. Elizabeth Mussey' 'Shellard, Mr. Frederick William'\n",
      " 'Allison, Mrs. Hudson J C (Bessie Waldo Daniels)' 'Svensson, Mr. Olof'\n",
      " 'Calic, Mr. Petar' 'Canavan, Miss. Mary' \"O'Sullivan, Miss. Bridget Mary\"\n",
      " 'Laitinen, Miss. Kristina Sofia' 'Maioni, Miss. Roberta'\n",
      " 'Penasco y Castellana, Mr. Victor de Satode'\n",
      " 'Quick, Mrs. Frederick Charles (Jane Richards)'\n",
      " 'Bradley, Mr. George (\"George Arthur Brayton\")'\n",
      " 'Olsen, Mr. Henry Margido' 'Lang, Mr. Fang' 'Daly, Mr. Eugene Patrick'\n",
      " 'Webber, Mr. James' 'McGough, Mr. James Robert'\n",
      " 'Rothschild, Mrs. Martin (Elizabeth L. Barrett)' 'Coleff, Mr. Satio'\n",
      " 'Walker, Mr. William Anderson' 'Lemore, Mrs. (Amelia Milley)'\n",
      " 'Ryan, Mr. Patrick'\n",
      " 'Angle, Mrs. William A (Florence \"Mary\" Agnes Hughes)'\n",
      " 'Pavlovic, Mr. Stefo' 'Perreault, Miss. Anne' 'Vovk, Mr. Janko'\n",
      " 'Lahoud, Mr. Sarkis' 'Hippach, Mrs. Louis Albert (Ida Sophia Fischer)'\n",
      " 'Kassem, Mr. Fared' 'Farrell, Mr. James' 'Ridsdale, Miss. Lucy'\n",
      " 'Farthing, Mr. John' 'Salonen, Mr. Johan Werner'\n",
      " 'Hocking, Mr. Richard George' 'Quick, Miss. Phyllis May'\n",
      " 'Toufik, Mr. Nakli' 'Elias, Mr. Joseph Jr'\n",
      " 'Peter, Mrs. Catherine (Catherine Rizk)' 'Cacic, Miss. Marija'\n",
      " 'Hart, Miss. Eva Miriam' 'Butt, Major. Archibald Willingham'\n",
      " 'LeRoy, Miss. Bertha' 'Risien, Mr. Samuel Beard'\n",
      " 'Frolicher, Miss. Hedwig Margaritha' 'Crosby, Miss. Harriet R'\n",
      " 'Andersson, Miss. Ingeborg Constanzia'\n",
      " 'Andersson, Miss. Sigrid Elisabeth' 'Beane, Mr. Edward'\n",
      " 'Douglas, Mr. Walter Donald' 'Nicholson, Mr. Arthur Ernest'\n",
      " 'Beane, Mrs. Edward (Ethel Clarke)' 'Padro y Manent, Mr. Julian'\n",
      " 'Goldsmith, Mr. Frank John' 'Davies, Master. John Morgan Jr'\n",
      " 'Thayer, Mr. John Borland Jr' 'Sharp, Mr. Percival James R'\n",
      " \"O'Brien, Mr. Timothy\" 'Leeni, Mr. Fahim (\"Philip Zenni\")'\n",
      " 'Ohman, Miss. Velin' 'Wright, Mr. George'\n",
      " 'Duff Gordon, Lady. (Lucille Christiana Sutherland) (\"Mrs Morgan\")'\n",
      " 'Robbins, Mr. Victor' 'Taussig, Mrs. Emil (Tillie Mandelbaum)'\n",
      " 'de Messemaeker, Mrs. Guillaume Joseph (Emma)' 'Morrow, Mr. Thomas Rowan'\n",
      " 'Sivic, Mr. Husein' 'Norman, Mr. Robert Douglas' 'Simmons, Mr. John'\n",
      " 'Meanwell, Miss. (Marion Ogden)' 'Davies, Mr. Alfred J'\n",
      " 'Stoytcheff, Mr. Ilia' 'Palsson, Mrs. Nils (Alma Cornelia Berglund)'\n",
      " 'Doharr, Mr. Tannous' 'Jonsson, Mr. Carl' 'Harris, Mr. George'\n",
      " 'Appleton, Mrs. Edward Dale (Charlotte Lamson)'\n",
      " 'Flynn, Mr. John Irwin (\"Irving\")' 'Kelly, Miss. Mary'\n",
      " 'Rush, Mr. Alfred George John' 'Patchett, Mr. George'\n",
      " 'Garside, Miss. Ethel' 'Silvey, Mrs. William Baird (Alice Munger)'\n",
      " 'Caram, Mrs. Joseph (Maria Elias)' 'Jussila, Mr. Eiriik'\n",
      " 'Christy, Miss. Julie Rachel'\n",
      " 'Thayer, Mrs. John Borland (Marian Longstreth Morris)'\n",
      " 'Downton, Mr. William James' 'Ross, Mr. John Hugo' 'Paulner, Mr. Uscher'\n",
      " 'Taussig, Miss. Ruth' 'Jarvis, Mr. John Denzil'\n",
      " 'Frolicher-Stehli, Mr. Maxmillian' 'Gilinski, Mr. Eliezer'\n",
      " 'Murdlin, Mr. Joseph' 'Rintamaki, Mr. Matti'\n",
      " 'Stephenson, Mrs. Walter Bertram (Martha Eustis)'\n",
      " 'Elsbury, Mr. William James' 'Bourke, Miss. Mary'\n",
      " 'Chapman, Mr. John Henry' 'Van Impe, Mr. Jean Baptiste'\n",
      " 'Leitch, Miss. Jessie Wills' 'Johnson, Mr. Alfred' 'Boulos, Mr. Hanna'\n",
      " 'Duff Gordon, Sir. Cosmo Edmund (\"Mr Morgan\")'\n",
      " 'Jacobsohn, Mrs. Sidney Samuel (Amy Frances Christy)'\n",
      " 'Slabenoff, Mr. Petco' 'Harrington, Mr. Charles H'\n",
      " 'Torber, Mr. Ernst William' 'Homer, Mr. Harry (\"Mr E Haven\")'\n",
      " 'Lindell, Mr. Edvard Bengtsson' 'Karaic, Mr. Milan'\n",
      " 'Daniel, Mr. Robert Williams'\n",
      " 'Laroche, Mrs. Joseph (Juliette Marie Louise Lafargue)'\n",
      " 'Shutes, Miss. Elizabeth W'\n",
      " 'Andersson, Mrs. Anders Johan (Alfrida Konstantia Brogren)'\n",
      " 'Jardin, Mr. Jose Neto' 'Murphy, Miss. Margaret Jane' 'Horgan, Mr. John'\n",
      " 'Brocklebank, Mr. William Alfred' 'Herman, Miss. Alice'\n",
      " 'Danbom, Mr. Ernst Gilbert'\n",
      " 'Lobb, Mrs. William Arthur (Cordelia K Stanlick)'\n",
      " 'Becker, Miss. Marion Louise' 'Gavey, Mr. Lawrence' 'Yasbeck, Mr. Antoni'\n",
      " 'Kimball, Mr. Edwin Nelson Jr' 'Nakid, Mr. Sahid'\n",
      " 'Hansen, Mr. Henry Damsgaard' 'Bowen, Mr. David John \"Dai\"'\n",
      " 'Sutton, Mr. Frederick' 'Kirkland, Rev. Charles Leonard'\n",
      " 'Longley, Miss. Gretchen Fiske' 'Bostandyeff, Mr. Guentcho'\n",
      " \"O'Connell, Mr. Patrick D\" 'Barkworth, Mr. Algernon Henry Wilson'\n",
      " 'Lundahl, Mr. Johan Svensson' 'Stahelin-Maeglin, Dr. Max'\n",
      " 'Parr, Mr. William Henry Marsh' 'Skoog, Miss. Mabel' 'Davis, Miss. Mary'\n",
      " 'Leinonen, Mr. Antti Gustaf' 'Collyer, Mr. Harvey'\n",
      " 'Panula, Mrs. Juha (Maria Emilia Ojala)' 'Thorneycroft, Mr. Percival'\n",
      " 'Jensen, Mr. Hans Peder' 'Sagesser, Mlle. Emma'\n",
      " 'Skoog, Miss. Margit Elizabeth' 'Foo, Mr. Choong'\n",
      " 'Baclini, Miss. Eugenie' 'Harper, Mr. Henry Sleeper' 'Cor, Mr. Liudevit'\n",
      " 'Simonius-Blumer, Col. Oberst Alfons' 'Willey, Mr. Edward'\n",
      " 'Stanley, Miss. Amy Zillah Elsie' 'Mitkoff, Mr. Mito'\n",
      " 'Doling, Miss. Elsie' 'Kalvik, Mr. Johannes Halvorsen'\n",
      " 'O\\'Leary, Miss. Hanora \"Norah\"' 'Hegarty, Miss. Hanora \"Nora\"'\n",
      " 'Hickman, Mr. Leonard Mark' 'Radeff, Mr. Alexander'\n",
      " 'Bourke, Mrs. John (Catherine)' 'Eitemiller, Mr. George Floyd'\n",
      " 'Newell, Mr. Arthur Webster' 'Frauenthal, Dr. Henry William'\n",
      " 'Badt, Mr. Mohamed' 'Colley, Mr. Edward Pomeroy' 'Coleff, Mr. Peju'\n",
      " 'Lindqvist, Mr. Eino William' 'Hickman, Mr. Lewis'\n",
      " 'Butler, Mr. Reginald Fenton' 'Rommetvedt, Mr. Knud Paust'\n",
      " 'Cook, Mr. Jacob' 'Taylor, Mrs. Elmer Zebley (Juliet Cummins Wright)'\n",
      " 'Brown, Mrs. Thomas William Solomon (Elizabeth Catherine Ford)'\n",
      " 'Davidson, Mr. Thornton' 'Mitchell, Mr. Henry Michael'\n",
      " 'Wilhelms, Mr. Charles' 'Watson, Mr. Ennis Hastings'\n",
      " 'Edvardsson, Mr. Gustaf Hjalmar' 'Sawyer, Mr. Frederick Charles'\n",
      " 'Turja, Miss. Anna Sofia' 'Goodwin, Mrs. Frederick (Augusta Tyler)'\n",
      " 'Cardeza, Mr. Thomas Drake Martinez' 'Peters, Miss. Katie'\n",
      " 'Hassab, Mr. Hammad' 'Olsvigen, Mr. Thor Anderson'\n",
      " 'Goodwin, Mr. Charles Edward' 'Brown, Mr. Thomas William Solomon'\n",
      " 'Laroche, Mr. Joseph Philippe Lemercier' 'Panula, Mr. Jaako Arnold'\n",
      " 'Dakic, Mr. Branko' 'Fischer, Mr. Eberhard Thelander'\n",
      " 'Madill, Miss. Georgette Alexandra' 'Dick, Mr. Albert Adrian'\n",
      " 'Karun, Miss. Manca' 'Lam, Mr. Ali' 'Saad, Mr. Khalil' 'Weir, Col. John'\n",
      " 'Chapman, Mr. Charles Henry' 'Kelly, Mr. James'\n",
      " 'Mullens, Miss. Katherine \"Katie\"' 'Thayer, Mr. John Borland'\n",
      " 'Humblen, Mr. Adolf Mathias Nicolai Olsen'\n",
      " 'Astor, Mrs. John Jacob (Madeleine Talmadge Force)'\n",
      " 'Silverthorne, Mr. Spencer Victor' 'Barbara, Miss. Saiide'\n",
      " 'Gallagher, Mr. Martin' 'Hansen, Mr. Henrik Juul'\n",
      " 'Morley, Mr. Henry Samuel (\"Mr Henry Marshall\")'\n",
      " 'Kelly, Mrs. Florence \"Fannie\"' 'Calderhead, Mr. Edward Pennington'\n",
      " 'Cleaver, Miss. Alice'\n",
      " 'Moubarek, Master. Halim Gonios (\"William George\")'\n",
      " 'Mayne, Mlle. Berthe Antonine (\"Mrs de Villiers\")' 'Klaber, Mr. Herman'\n",
      " 'Taylor, Mr. Elmer Zebley' 'Larsson, Mr. August Viktor'\n",
      " 'Greenberg, Mr. Samuel' 'Soholt, Mr. Peter Andreas Lauritz Andersen'\n",
      " 'Endres, Miss. Caroline Louise' 'Troutt, Miss. Edwina Celia \"Winnie\"'\n",
      " 'McEvoy, Mr. Michael' 'Johnson, Mr. Malkolm Joackim'\n",
      " 'Harper, Miss. Annie Jessie \"Nina\"' 'Jensen, Mr. Svend Lauritz'\n",
      " 'Gillespie, Mr. William Henry' 'Hodges, Mr. Henry Price'\n",
      " 'Chambers, Mr. Norman Campbell' 'Oreskovic, Mr. Luka'\n",
      " 'Renouf, Mrs. Peter Henry (Lillian Jefferys)' 'Mannion, Miss. Margareth'\n",
      " 'Bryhl, Mr. Kurt Arnold Gottfrid' 'Ilmakangas, Miss. Pieta Sofia'\n",
      " 'Allen, Miss. Elisabeth Walton' 'Hassan, Mr. Houssein G N'\n",
      " 'Knight, Mr. Robert J' 'Berriman, Mr. William John'\n",
      " 'Troupiansky, Mr. Moses Aaron' 'Williams, Mr. Leslie'\n",
      " 'Ford, Mrs. Edward (Margaret Ann Watson)' 'Lesurer, Mr. Gustave J'\n",
      " 'Ivanoff, Mr. Kanio' 'Nankoff, Mr. Minko' 'Hawksford, Mr. Walter James'\n",
      " 'Cavendish, Mr. Tyrell William' 'Ryerson, Miss. Susan Parker \"Suzette\"'\n",
      " 'McNamee, Mr. Neal' 'Stranden, Mr. Juho' 'Crosby, Capt. Edward Gifford'\n",
      " 'Abbott, Mr. Rossmore Edward' 'Sinkkonen, Miss. Anna'\n",
      " 'Marvin, Mr. Daniel Warner' 'Connaghton, Mr. Michael' 'Wells, Miss. Joan'\n",
      " 'Moor, Master. Meier' 'Vande Velde, Mr. Johannes Joseph'\n",
      " 'Jonkoff, Mr. Lalio' 'Herman, Mrs. Samuel (Jane Laver)'\n",
      " 'Hamalainen, Master. Viljo' 'Carlsson, Mr. August Sigfrid'\n",
      " 'Bailey, Mr. Percy Andrew' 'Theobald, Mr. Thomas Leonard'\n",
      " 'Rothes, the Countess. of (Lucy Noel Martha Dyer-Edwards)'\n",
      " 'Garfirth, Mr. John' 'Nirva, Mr. Iisakki Antino Aijo'\n",
      " 'Barah, Mr. Hanna Assi' 'Carter, Mrs. William Ernest (Lucile Polk)'\n",
      " 'Eklund, Mr. Hans Linus' 'Hogeboom, Mrs. John C (Anna Andrews)'\n",
      " 'Brewe, Dr. Arthur Jackson' 'Mangan, Miss. Mary' 'Moran, Mr. Daniel J'\n",
      " 'Gronnestad, Mr. Daniel Danielsen' 'Lievens, Mr. Rene Aime'\n",
      " 'Jensen, Mr. Niels Peder' 'Mack, Mrs. (Mary)' 'Elias, Mr. Dibo'\n",
      " 'Hocking, Mrs. Elizabeth (Eliza Needs)'\n",
      " 'Myhrman, Mr. Pehr Fabian Oliver Malkolm' 'Tobin, Mr. Roger'\n",
      " 'Emanuel, Miss. Virginia Ethel' 'Kilgannon, Mr. Thomas J'\n",
      " 'Robert, Mrs. Edward Scott (Elisabeth Walton McMillan)'\n",
      " 'Ayoub, Miss. Banoura' 'Dick, Mrs. Albert Adrian (Vera Gillespie)'\n",
      " 'Long, Mr. Milton Clyde' 'Johnston, Mr. Andrew G' 'Ali, Mr. William'\n",
      " 'Harmer, Mr. Abraham (David Lishin)' 'Sjoblom, Miss. Anna Sofia'\n",
      " 'Rice, Master. George Hugh' 'Dean, Master. Bertram Vere'\n",
      " 'Guggenheim, Mr. Benjamin' 'Keane, Mr. Andrew \"Andy\"'\n",
      " 'Gaskell, Mr. Alfred' 'Sage, Miss. Stella Anna'\n",
      " 'Hoyt, Mr. William Fisher' 'Dantcheff, Mr. Ristiu' 'Otter, Mr. Richard'\n",
      " 'Leader, Dr. Alice (Farnham)' 'Osman, Mrs. Mara'\n",
      " 'Ibrahim Shawah, Mr. Yousseff'\n",
      " 'Van Impe, Mrs. Jean Baptiste (Rosalie Paula Govaert)'\n",
      " 'Ponesell, Mr. Martin' 'Collyer, Mrs. Harvey (Charlotte Annie Tate)'\n",
      " 'Carter, Master. William Thornton II' 'Thomas, Master. Assad Alexander'\n",
      " 'Hedman, Mr. Oskar Arvid' 'Johansson, Mr. Karl Johan'\n",
      " 'Andrews, Mr. Thomas Jr' 'Pettersson, Miss. Ellen Natalia'\n",
      " 'Meyer, Mr. August' 'Chambers, Mrs. Norman Campbell (Bertha Griggs)'\n",
      " 'Alexander, Mr. William' 'Lester, Mr. James' 'Slemen, Mr. Richard James'\n",
      " 'Andersson, Miss. Ebba Iris Alfrida' 'Tomlin, Mr. Ernest Portage'\n",
      " 'Fry, Mr. Richard' 'Heininen, Miss. Wendla Maria' 'Mallet, Mr. Albert'\n",
      " 'Holm, Mr. John Fredrik Alexander' 'Skoog, Master. Karl Thorsten'\n",
      " 'Hays, Mrs. Charles Melville (Clara Jennings Gregg)' 'Lulic, Mr. Nikola'\n",
      " 'Reuchlin, Jonkheer. John George' 'Moor, Mrs. (Beila)'\n",
      " 'Panula, Master. Urho Abraham' 'Flynn, Mr. John' 'Lam, Mr. Len'\n",
      " 'Mallet, Master. Andre' 'McCormack, Mr. Thomas Joseph'\n",
      " 'Stone, Mrs. George Nelson (Martha Evelyn)'\n",
      " 'Yasbeck, Mrs. Antoni (Selini Alexander)'\n",
      " 'Richards, Master. George Sibley' 'Saad, Mr. Amin'\n",
      " 'Augustsson, Mr. Albert' 'Allum, Mr. Owen George'\n",
      " 'Compton, Miss. Sara Rebecca' 'Pasic, Mr. Jakob' 'Sirota, Mr. Maurice'\n",
      " 'Chip, Mr. Chang' 'Marechal, Mr. Pierre' 'Alhomaki, Mr. Ilmari Rudolf'\n",
      " 'Mudd, Mr. Thomas Charles' 'Serepeca, Miss. Augusta'\n",
      " 'Lemberopolous, Mr. Peter L' 'Culumovic, Mr. Jeso' 'Abbing, Mr. Anthony'\n",
      " 'Sage, Mr. Douglas Bullen' 'Markoff, Mr. Marin' 'Harper, Rev. John'\n",
      " 'Goldenberg, Mrs. Samuel L (Edwiga Grabowska)'\n",
      " 'Andersson, Master. Sigvard Harald Elias' 'Svensson, Mr. Johan'\n",
      " 'Boulos, Miss. Nourelain' 'Lines, Miss. Mary Conover'\n",
      " 'Carter, Mrs. Ernest Courtenay (Lilian Hughes)'\n",
      " 'Aks, Mrs. Sam (Leah Rosen)' 'Wick, Mrs. George Dennick (Mary Hitchcock)'\n",
      " 'Daly, Mr. Peter Denis ' 'Baclini, Mrs. Solomon (Latifa Qurban)'\n",
      " 'Razi, Mr. Raihed' 'Hansen, Mr. Claus Peter'\n",
      " 'Giles, Mr. Frederick Edward'\n",
      " 'Swift, Mrs. Frederick Joel (Margaret Welles Barron)'\n",
      " 'Sage, Miss. Dorothy Edith \"Dolly\"' 'Gill, Mr. John William'\n",
      " 'Bystrom, Mrs. (Karolina)' 'Duran y More, Miss. Asuncion'\n",
      " 'Roebling, Mr. Washington Augustus II' 'van Melkebeke, Mr. Philemon'\n",
      " 'Johnson, Master. Harold Theodor' 'Balkic, Mr. Cerin'\n",
      " 'Beckwith, Mrs. Richard Leonard (Sallie Monypeny)'\n",
      " 'Carlsson, Mr. Frans Olof' 'Vander Cruyssen, Mr. Victor'\n",
      " 'Abelson, Mrs. Samuel (Hannah Wizosky)'\n",
      " 'Najib, Miss. Adele Kiamie \"Jane\"' 'Gustafsson, Mr. Alfred Ossian'\n",
      " 'Petroff, Mr. Nedelio' 'Laleff, Mr. Kristo'\n",
      " 'Potter, Mrs. Thomas Jr (Lily Alexenia Wilson)'\n",
      " 'Shelley, Mrs. William (Imanita Parrish Hall)' 'Markun, Mr. Johann'\n",
      " 'Dahlberg, Miss. Gerda Ulrika' 'Banfield, Mr. Frederick James'\n",
      " 'Sutehall, Mr. Henry Jr' 'Rice, Mrs. William (Margaret Norton)'\n",
      " 'Montvila, Rev. Juozas' 'Graham, Miss. Margaret Edith'\n",
      " 'Johnston, Miss. Catherine Helen \"Carrie\"' 'Behr, Mr. Karl Howell'\n",
      " 'Dooley, Mr. Patrick']\n",
      " Sex---------------------------------------------------------  ['male' 'female']\n",
      " Ticket------------------------------------------------------  ['A/5 21171' 'PC 17599' 'STON/O2. 3101282' '113803' '373450' '330877'\n",
      " '17463' '349909' '347742' '237736' 'PP 9549' '113783' 'A/5. 2151'\n",
      " '347082' '350406' '248706' '382652' '244373' '345763' '2649' '239865'\n",
      " '248698' '330923' '113788' '347077' '2631' '19950' '330959' '349216'\n",
      " 'PC 17601' 'PC 17569' '335677' 'C.A. 24579' 'PC 17604' '113789' '2677'\n",
      " 'A./5. 2152' '345764' '2651' '7546' '11668' '349253' 'SC/Paris 2123'\n",
      " '330958' 'S.C./A.4. 23567' '370371' '14311' '2662' '349237' '3101295'\n",
      " 'A/4. 39886' 'PC 17572' '2926' '113509' '19947' 'C.A. 31026' '2697'\n",
      " 'C.A. 34651' 'CA 2144' '2669' '113572' '36973' '347088' 'PC 17605' '2661'\n",
      " 'C.A. 29395' 'S.P. 3464' '3101281' '315151' 'C.A. 33111' 'S.O.C. 14879'\n",
      " '2680' '1601' '348123' '349208' '374746' '248738' '364516' '345767'\n",
      " '345779' '330932' '113059' 'SO/C 14885' '3101278' 'W./C. 6608'\n",
      " 'SOTON/OQ 392086' '343275' '343276' '347466' 'W.E.P. 5734' 'C.A. 2315'\n",
      " '364500' '374910' 'PC 17754' 'PC 17759' '231919' '244367' '349245'\n",
      " '349215' '35281' '7540' '3101276' '349207' '343120' '312991' '349249'\n",
      " '371110' '110465' '2665' '324669' '4136' '2627' 'STON/O 2. 3101294'\n",
      " '370369' 'PC 17558' 'A4. 54510' '27267' '370372' 'C 17369' '2668'\n",
      " '347061' '349241' 'SOTON/O.Q. 3101307' 'A/5. 3337' '228414' 'C.A. 29178'\n",
      " 'SC/PARIS 2133' '11752' '7534' 'PC 17593' '2678' '347081'\n",
      " 'STON/O2. 3101279' '365222' '231945' 'C.A. 33112' '350043' '230080'\n",
      " '244310' 'S.O.P. 1166' '113776' 'A.5. 11206' 'A/5. 851' 'Fa 265302'\n",
      " 'PC 17597' '35851' 'SOTON/OQ 392090' '315037' 'CA. 2343' '371362'\n",
      " 'C.A. 33595' '347068' '315093' '363291' '113505' 'PC 17318' '111240'\n",
      " 'STON/O 2. 3101280' '17764' '350404' '4133' 'PC 17595' '250653' 'LINE'\n",
      " 'SC/PARIS 2131' '230136' '315153' '113767' '370365' '111428' '364849'\n",
      " '349247' '234604' '28424' '350046' 'PC 17610' '368703' '4579' '370370'\n",
      " '248747' '345770' '3101264' '2628' 'A/5 3540' '347054' '2699' '367231'\n",
      " '112277' 'SOTON/O.Q. 3101311' 'F.C.C. 13528' 'A/5 21174' '250646'\n",
      " '367229' '35273' 'STON/O2. 3101283' '243847' '11813' 'W/C 14208'\n",
      " 'SOTON/OQ 392089' '220367' '21440' '349234' '19943' 'PP 4348' 'SW/PP 751'\n",
      " 'A/5 21173' '236171' '347067' '237442' 'C.A. 29566' 'W./C. 6609' '26707'\n",
      " 'C.A. 31921' '28665' 'SCO/W 1585' '367230' 'W./C. 14263'\n",
      " 'STON/O 2. 3101275' '2694' '19928' '347071' '250649' '11751' '244252'\n",
      " '362316' '113514' 'A/5. 3336' '370129' '2650' 'PC 17585' '110152'\n",
      " 'PC 17755' '230433' '384461' '110413' '112059' '382649' 'C.A. 17248'\n",
      " '347083' 'PC 17582' 'PC 17760' '113798' '250644' 'PC 17596' '370375'\n",
      " '13502' '347073' '239853' 'C.A. 2673' '336439' '347464' '345778'\n",
      " 'A/5. 10482' '113056' '349239' '345774' '349206' '237798' '370373'\n",
      " '19877' '11967' 'SC/Paris 2163' '349236' '349233' 'PC 17612' '2693'\n",
      " '113781' '19988' '9234' '367226' '226593' 'A/5 2466' '17421' 'PC 17758'\n",
      " 'P/PP 3381' 'PC 17485' '11767' 'PC 17608' '250651' '349243'\n",
      " 'F.C.C. 13529' '347470' '29011' '36928' '16966' 'A/5 21172' '349219'\n",
      " '234818' '345364' '28551' '111361' '113043' 'PC 17611' '349225' '7598'\n",
      " '113784' '248740' '244361' '229236' '248733' '31418' '386525'\n",
      " 'C.A. 37671' '315088' '7267' '113510' '2695' '2647' '345783' '237671'\n",
      " '330931' '330980' 'SC/PARIS 2167' '2691' 'SOTON/O.Q. 3101310' 'C 7076'\n",
      " '110813' '2626' '14313' 'PC 17477' '11765' '3101267' '323951' 'C 7077'\n",
      " '113503' '2648' '347069' 'PC 17757' '2653' 'STON/O 2. 3101293' '349227'\n",
      " '27849' '367655' 'SC 1748' '113760' '350034' '3101277' '350052' '350407'\n",
      " '28403' '244278' '240929' 'STON/O 2. 3101289' '341826' '4137' '315096'\n",
      " '28664' '347064' '29106' '312992' '349222' '394140' 'STON/O 2. 3101269'\n",
      " '343095' '28220' '250652' '28228' '345773' '349254' 'A/5. 13032' '315082'\n",
      " '347080' 'A/4. 34244' '2003' '250655' '364851' 'SOTON/O.Q. 392078'\n",
      " '110564' '376564' 'SC/AH 3085' 'STON/O 2. 3101274' '13507' 'C.A. 18723'\n",
      " '345769' '347076' '230434' '65306' '33638' '113794' '2666' '113786'\n",
      " '65303' '113051' '17453' 'A/5 2817' '349240' '13509' '17464'\n",
      " 'F.C.C. 13531' '371060' '19952' '364506' '111320' '234360' 'A/S 2816'\n",
      " 'SOTON/O.Q. 3101306' '113792' '36209' '323592' '315089' 'SC/AH Basle 541'\n",
      " '7553' '31027' '3460' '350060' '3101298' '239854' 'A/5 3594' '4134'\n",
      " '11771' 'A.5. 18509' '65304' 'SOTON/OQ 3101317' '113787' 'PC 17609'\n",
      " 'A/4 45380' '36947' 'C.A. 6212' '350035' '315086' '364846' '330909'\n",
      " '4135' '26360' '111427' 'C 4001' '382651' 'SOTON/OQ 3101316' 'PC 17473'\n",
      " 'PC 17603' '349209' '36967' 'C.A. 34260' '226875' '349242' '12749'\n",
      " '349252' '2624' '2700' '367232' 'W./C. 14258' 'PC 17483' '3101296'\n",
      " '29104' '2641' '2690' '315084' '113050' 'PC 17761' '364498' '13568'\n",
      " 'WE/P 5735' '2908' '693' 'SC/PARIS 2146' '244358' '330979' '2620'\n",
      " '347085' '113807' '11755' '345572' '372622' '349251' '218629'\n",
      " 'SOTON/OQ 392082' 'SOTON/O.Q. 392087' 'A/4 48871' '349205' '2686'\n",
      " '350417' 'S.W./PP 752' '11769' 'PC 17474' '14312' 'A/4. 20589' '358585'\n",
      " '243880' '2689' 'STON/O 2. 3101286' '237789' '13049' '3411' '237565'\n",
      " '13567' '14973' 'A./5. 3235' 'STON/O 2. 3101273' 'A/5 3902' '364848'\n",
      " 'SC/AH 29037' '248727' '2664' '349214' '113796' '364511' '111426'\n",
      " '349910' '349246' '113804' 'SOTON/O.Q. 3101305' '370377' '364512'\n",
      " '220845' '31028' '2659' '11753' '350029' '54636' '36963' '219533'\n",
      " '349224' '334912' '27042' '347743' '13214' '112052' '237668'\n",
      " 'STON/O 2. 3101292' '350050' '349231' '13213' 'S.O./P.P. 751' 'CA. 2314'\n",
      " '349221' '8475' '330919' '365226' '349223' '29751' '2623' '5727' '349210'\n",
      " 'STON/O 2. 3101285' '234686' '312993' 'A/5 3536' '19996' '29750'\n",
      " 'F.C. 12750' 'C.A. 24580' '244270' '239856' '349912' '342826' '4138'\n",
      " '330935' '6563' '349228' '350036' '24160' '17474' '349256' '2672'\n",
      " '113800' '248731' '363592' '35852' '348121' 'PC 17475' '36864' '350025'\n",
      " '223596' 'PC 17476' 'PC 17482' '113028' '7545' '250647' '348124' '34218'\n",
      " '36568' '347062' '350048' '12233' '250643' '113806' '315094' '36866'\n",
      " '236853' 'STON/O2. 3101271' '239855' '28425' '233639' '349201' '349218'\n",
      " '16988' '376566' 'STON/O 2. 3101288' '250648' '113773' '335097' '29103'\n",
      " '392096' '345780' '349204' '350042' '29108' '363294' 'SOTON/O2 3101272'\n",
      " '2663' '347074' '112379' '364850' '8471' '345781' '350047' 'S.O./P.P. 3'\n",
      " '2674' '29105' '347078' '383121' '36865' '2687' '113501' 'W./C. 6607'\n",
      " 'SOTON/O.Q. 3101312' '374887' '3101265' '12460' 'PC 17600' '349203'\n",
      " '28213' '17465' '349244' '2685' '2625' '347089' '347063' '112050'\n",
      " '347087' '248723' '3474' '28206' '364499' '112058' 'STON/O2. 3101290'\n",
      " 'S.C./PARIS 2079' 'C 7075' '315098' '19972' '368323' '367228' '2671'\n",
      " '347468' '2223' 'PC 17756' '315097' '392092' '11774' 'SOTON/O2 3101287'\n",
      " '2683' '315090' 'C.A. 5547' '349213' '347060' 'PC 17592' '392091'\n",
      " '113055' '2629' '350026' '28134' '17466' '233866' '236852'\n",
      " 'SC/PARIS 2149' 'PC 17590' '345777' '349248' '695' '345765' '2667'\n",
      " '349212' '349217' '349257' '7552' 'C.A./SOTON 34068' 'SOTON/OQ 392076'\n",
      " '211536' '112053' '111369' '370376']\n",
      " Cabin-------------------------------------------------------  [nan 'C85' 'C123' 'E46' 'G6' 'C103' 'D56' 'A6' 'C23 C25 C27' 'B78' 'D33'\n",
      " 'B30' 'C52' 'B28' 'C83' 'F33' 'F G73' 'E31' 'A5' 'D10 D12' 'D26' 'C110'\n",
      " 'B58 B60' 'E101' 'F E69' 'D47' 'B86' 'F2' 'C2' 'E33' 'B19' 'A7' 'C49'\n",
      " 'F4' 'A32' 'B4' 'B80' 'A31' 'D36' 'D15' 'C93' 'C78' 'D35' 'C87' 'B77'\n",
      " 'E67' 'B94' 'C125' 'C99' 'C118' 'D7' 'A19' 'B49' 'D' 'C22 C26' 'C106'\n",
      " 'C65' 'E36' 'C54' 'B57 B59 B63 B66' 'C7' 'E34' 'C32' 'B18' 'C124' 'C91'\n",
      " 'E40' 'T' 'C128' 'D37' 'B35' 'E50' 'C82' 'B96 B98' 'E10' 'E44' 'A34'\n",
      " 'C104' 'C111' 'C92' 'E38' 'D21' 'E12' 'E63' 'A14' 'B37' 'C30' 'D20' 'B79'\n",
      " 'E25' 'D46' 'B73' 'C95' 'B38' 'B39' 'B22' 'C86' 'C70' 'A16' 'C101' 'C68'\n",
      " 'A10' 'E68' 'B41' 'A20' 'D19' 'D50' 'D9' 'A23' 'B50' 'A26' 'D48' 'E58'\n",
      " 'C126' 'B71' 'B51 B53 B55' 'D49' 'B5' 'B20' 'F G63' 'C62 C64' 'E24' 'C90'\n",
      " 'C45' 'E8' 'B101' 'D45' 'C46' 'D30' 'E121' 'D11' 'E77' 'F38' 'B3' 'D6'\n",
      " 'B82 B84' 'D17' 'A36' 'B102' 'B69' 'E49' 'C47' 'D28' 'E17' 'A24' 'C50'\n",
      " 'B42' 'C148']\n",
      " Embarked----------------------------------------------------  ['S' 'C' 'Q' nan]\n"
     ]
    }
   ],
   "source": [
    "\n",
    "for col in df.select_dtypes('object'):\n",
    "    print(f' {col :-<60}  {df[col].unique()}')"
   ]
  },
  {
   "cell_type": "code",
   "execution_count": 10,
   "id": "6e3dda2a",
   "metadata": {},
   "outputs": [
    {
     "data": {
      "image/png": "[encoded data removed]",
      "text/plain": [
       "<Figure size 432x288 with 1 Axes>"
      ]
     },
     "metadata": {},
     "output_type": "display_data"
    },
    {
     "data": {
      "image/png": "[encoded data removed]",
      "text/plain": [
       "<Figure size 432x288 with 1 Axes>"
      ]
     },
     "metadata": {},
     "output_type": "display_data"
    }
   ],
   "source": [
    "Cols=['Sex','Embarked']\n",
    "for col in Cols:\n",
    "    plt.figure()\n",
    "    df[col].value_counts().plot.pie()"
   ]
  },
  {
   "cell_type": "markdown",
   "id": "3c81ae3b",
   "metadata": {},
   "source": [
    "Il est judicieux de n'afficher seulement les pieplot des features Embarked et Sex.\n",
    "Sur ces 2 graphes on peut voir qu'il y avait une majorité d'homme sur le titanic et que la majorité des passagers ont embarqué à l'embarquement S.\n",
    "\n",
    "### Influence des variables sur la variables target\n",
    "Nous allons désormais cherchais à évaluer l'impact des différentes variables sur la cible.\n",
    "Pour cela nous allons commencer par séparer la dataframe en 2 d'un coté les survivants et de l'autre les non survivants, puis nous allons voir si leur graphes on les mêmes moyenne/forme."
   ]
  },
  {
   "cell_type": "code",
   "execution_count": 11,
   "id": "06102120",
   "metadata": {},
   "outputs": [
    {
     "name": "stderr",
     "output_type": "stream",
     "text": [
      "C:\\Users\\ranus\\anaconda3\\lib\\site-packages\\seaborn\\distributions.py:2619: FutureWarning: `distplot` is a deprecated function and will be removed in a future version. Please adapt your code to use either `displot` (a figure-level function with similar flexibility) or `histplot` (an axes-level function for histograms).\n",
      "  warnings.warn(msg, FutureWarning)\n",
      "C:\\Users\\ranus\\anaconda3\\lib\\site-packages\\seaborn\\distributions.py:2619: FutureWarning: `distplot` is a deprecated function and will be removed in a future version. Please adapt your code to use either `displot` (a figure-level function with similar flexibility) or `histplot` (an axes-level function for histograms).\n",
      "  warnings.warn(msg, FutureWarning)\n",
      "C:\\Users\\ranus\\anaconda3\\lib\\site-packages\\seaborn\\distributions.py:2619: FutureWarning: `distplot` is a deprecated function and will be removed in a future version. Please adapt your code to use either `displot` (a figure-level function with similar flexibility) or `histplot` (an axes-level function for histograms).\n",
      "  warnings.warn(msg, FutureWarning)\n",
      "C:\\Users\\ranus\\anaconda3\\lib\\site-packages\\seaborn\\distributions.py:2619: FutureWarning: `distplot` is a deprecated function and will be removed in a future version. Please adapt your code to use either `displot` (a figure-level function with similar flexibility) or `histplot` (an axes-level function for histograms).\n",
      "  warnings.warn(msg, FutureWarning)\n",
      "C:\\Users\\ranus\\anaconda3\\lib\\site-packages\\seaborn\\distributions.py:2619: FutureWarning: `distplot` is a deprecated function and will be removed in a future version. Please adapt your code to use either `displot` (a figure-level function with similar flexibility) or `histplot` (an axes-level function for histograms).\n",
      "  warnings.warn(msg, FutureWarning)\n",
      "C:\\Users\\ranus\\anaconda3\\lib\\site-packages\\seaborn\\distributions.py:2619: FutureWarning: `distplot` is a deprecated function and will be removed in a future version. Please adapt your code to use either `displot` (a figure-level function with similar flexibility) or `histplot` (an axes-level function for histograms).\n",
      "  warnings.warn(msg, FutureWarning)\n",
      "C:\\Users\\ranus\\anaconda3\\lib\\site-packages\\seaborn\\distributions.py:2619: FutureWarning: `distplot` is a deprecated function and will be removed in a future version. Please adapt your code to use either `displot` (a figure-level function with similar flexibility) or `histplot` (an axes-level function for histograms).\n",
      "  warnings.warn(msg, FutureWarning)\n",
      "C:\\Users\\ranus\\anaconda3\\lib\\site-packages\\seaborn\\distributions.py:2619: FutureWarning: `distplot` is a deprecated function and will be removed in a future version. Please adapt your code to use either `displot` (a figure-level function with similar flexibility) or `histplot` (an axes-level function for histograms).\n",
      "  warnings.warn(msg, FutureWarning)\n",
      "C:\\Users\\ranus\\anaconda3\\lib\\site-packages\\seaborn\\distributions.py:2619: FutureWarning: `distplot` is a deprecated function and will be removed in a future version. Please adapt your code to use either `displot` (a figure-level function with similar flexibility) or `histplot` (an axes-level function for histograms).\n",
      "  warnings.warn(msg, FutureWarning)\n",
      "C:\\Users\\ranus\\anaconda3\\lib\\site-packages\\seaborn\\distributions.py:2619: FutureWarning: `distplot` is a deprecated function and will be removed in a future version. Please adapt your code to use either `displot` (a figure-level function with similar flexibility) or `histplot` (an axes-level function for histograms).\n",
      "  warnings.warn(msg, FutureWarning)\n",
      "C:\\Users\\ranus\\anaconda3\\lib\\site-packages\\seaborn\\distributions.py:2619: FutureWarning: `distplot` is a deprecated function and will be removed in a future version. Please adapt your code to use either `displot` (a figure-level function with similar flexibility) or `histplot` (an axes-level function for histograms).\n",
      "  warnings.warn(msg, FutureWarning)\n",
      "C:\\Users\\ranus\\anaconda3\\lib\\site-packages\\seaborn\\distributions.py:2619: FutureWarning: `distplot` is a deprecated function and will be removed in a future version. Please adapt your code to use either `displot` (a figure-level function with similar flexibility) or `histplot` (an axes-level function for histograms).\n",
      "  warnings.warn(msg, FutureWarning)\n",
      "C:\\Users\\ranus\\anaconda3\\lib\\site-packages\\seaborn\\distributions.py:2619: FutureWarning: `distplot` is a deprecated function and will be removed in a future version. Please adapt your code to use either `displot` (a figure-level function with similar flexibility) or `histplot` (an axes-level function for histograms).\n",
      "  warnings.warn(msg, FutureWarning)\n",
      "C:\\Users\\ranus\\anaconda3\\lib\\site-packages\\seaborn\\distributions.py:316: UserWarning: Dataset has 0 variance; skipping density estimate. Pass `warn_singular=False` to disable this warning.\n",
      "  warnings.warn(msg, UserWarning)\n",
      "C:\\Users\\ranus\\anaconda3\\lib\\site-packages\\seaborn\\distributions.py:2619: FutureWarning: `distplot` is a deprecated function and will be removed in a future version. Please adapt your code to use either `displot` (a figure-level function with similar flexibility) or `histplot` (an axes-level function for histograms).\n",
      "  warnings.warn(msg, FutureWarning)\n",
      "C:\\Users\\ranus\\anaconda3\\lib\\site-packages\\seaborn\\distributions.py:316: UserWarning: Dataset has 0 variance; skipping density estimate. Pass `warn_singular=False` to disable this warning.\n",
      "  warnings.warn(msg, UserWarning)\n"
     ]
    },
    {
     "data": {
      "image/png": "[encoded data removed]",
      "text/plain": [
       "<Figure size 432x288 with 1 Axes>"
      ]
     },
     "metadata": {
      "needs_background": "light"
     },
     "output_type": "display_data"
    },
    {
     "data": {
      "image/png": "[encoded data removed]",
      "text/plain": [
       "<Figure size 432x288 with 1 Axes>"
      ]
     },
     "metadata": {
      "needs_background": "light"
     },
     "output_type": "display_data"
    },
    {
     "data": {
      "image/png": "[encoded data removed]",
      "text/plain": [
       "<Figure size 432x288 with 1 Axes>"
      ]
     },
     "metadata": {
      "needs_background": "light"
     },
     "output_type": "display_data"
    },
    {
     "data": {
      "image/png": "[encoded data removed]",
      "text/plain": [
       "<Figure size 432x288 with 1 Axes>"
      ]
     },
     "metadata": {
      "needs_background": "light"
     },
     "output_type": "display_data"
    },
    {
     "data": {
      "image/png": "[encoded data removed]",
      "text/plain": [
       "<Figure size 432x288 with 1 Axes>"
      ]
     },
     "metadata": {
      "needs_background": "light"
     },
     "output_type": "display_data"
    },
    {
     "data": {
      "image/png": "[encoded data removed]",
      "text/plain": [
       "<Figure size 432x288 with 1 Axes>"
      ]
     },
     "metadata": {
      "needs_background": "light"
     },
     "output_type": "display_data"
    },
    {
     "data": {
      "image/png": "[encoded data removed]",
      "text/plain": [
       "<Figure size 432x288 with 1 Axes>"
      ]
     },
     "metadata": {
      "needs_background": "light"
     },
     "output_type": "display_data"
    }
   ],
   "source": [
    "df_Survived=df[df['Survived']==1]\n",
    "df_noSurvived=df[df['Survived']==0]\n",
    "\n",
    "cols2=[]\n",
    "for col in df.columns:\n",
    "    cols2.append(col)\n",
    "cols2=df.select_dtypes('int64')| df.select_dtypes(\"float64\")\n",
    "\n",
    "#for col in df.columns:\n",
    "for col in cols2:\n",
    "    plt.figure()\n",
    "    sns.distplot(df_Survived[col],label=\"Survive\")\n",
    "    sns.distplot(df_noSurvived[col],label=\"noSurvived\")"
   ]
  },
  {
   "cell_type": "markdown",
   "id": "a1e1f297",
   "metadata": {},
   "source": [
    "On remarque plusieurs point important. Tout d'abord il semblerait qu'une grande majorité des non-survivants était en Classe 3."
   ]
  },
  {
   "cell_type": "code",
   "execution_count": null,
   "id": "25806074",
   "metadata": {},
   "outputs": [],
   "source": []
  },
  {
   "cell_type": "code",
   "execution_count": 12,
   "id": "2441e631",
   "metadata": {},
   "outputs": [
    {
     "data": {
      "image/png": "[encoded data removed]",
      "text/plain": [
       "<Figure size 432x288 with 1 Axes>"
      ]
     },
     "metadata": {
      "needs_background": "light"
     },
     "output_type": "display_data"
    },
    {
     "data": {
      "image/png": "[encoded data removed]",
      "text/plain": [
       "<Figure size 432x288 with 1 Axes>"
      ]
     },
     "metadata": {
      "needs_background": "light"
     },
     "output_type": "display_data"
    },
    {
     "data": {
      "image/png": "[encoded data removed]",
      "text/plain": [
       "<Figure size 432x288 with 1 Axes>"
      ]
     },
     "metadata": {
      "needs_background": "light"
     },
     "output_type": "display_data"
    },
    {
     "data": {
      "image/png": "[encoded data removed]",
      "text/plain": [
       "<Figure size 432x288 with 1 Axes>"
      ]
     },
     "metadata": {
      "needs_background": "light"
     },
     "output_type": "display_data"
    },
    {
     "data": {
      "image/png": "[encoded data removed]",
      "text/plain": [
       "<Figure size 432x288 with 1 Axes>"
      ]
     },
     "metadata": {
      "needs_background": "light"
     },
     "output_type": "display_data"
    }
   ],
   "source": [
    "for col in df.select_dtypes('object'):\n",
    "    plt.figure()\n",
    "    sns.countplot(x=col,hue='Survived', data=df)\n",
    "    "
   ]
  },
  {
   "cell_type": "markdown",
   "id": "d2984a39",
   "metadata": {},
   "source": [
    "Ces graphes nous donnent de précieuse information, tout d'abord en terme de proportion il y a plus de rescapé du côté des femmes que des hommes, il serait intéressant d'évaluer ces proportions.\n",
    "On remarque également une disparité sur le ratio entre les survivants et les non-survivants. Les embarquements C et Q ont plus ou moins le même ratio et comportent nettement moins d'individus que l'embarquement C. De plus, la proportion de survivant sur l'embarquement C est nettement moins élevé.\n"
   ]
  },
  {
   "cell_type": "code",
   "execution_count": 13,
   "id": "b1633e79",
   "metadata": {},
   "outputs": [
    {
     "data": {
      "text/html": [
       "<div>\n",
       "<style scoped>\n",
       "    .dataframe tbody tr th:only-of-type {\n",
       "        vertical-align: middle;\n",
       "    }\n",
       "\n",
       "    .dataframe tbody tr th {\n",
       "        vertical-align: top;\n",
       "    }\n",
       "\n",
       "    .dataframe thead th {\n",
       "        text-align: right;\n",
       "    }\n",
       "</style>\n",
       "<table border=\"1\" class=\"dataframe\">\n",
       "  <thead>\n",
       "    <tr style=\"text-align: right;\">\n",
       "      <th></th>\n",
       "      <th>Homme survivant</th>\n",
       "      <th>proportion</th>\n",
       "    </tr>\n",
       "  </thead>\n",
       "  <tbody>\n",
       "    <tr>\n",
       "      <th>0</th>\n",
       "      <td>survivants</td>\n",
       "      <td>0.188908</td>\n",
       "    </tr>\n",
       "    <tr>\n",
       "      <th>1</th>\n",
       "      <td>non survivants</td>\n",
       "      <td>0.811092</td>\n",
       "    </tr>\n",
       "  </tbody>\n",
       "</table>\n",
       "</div>"
      ],
      "text/plain": [
       "  Homme survivant  proportion\n",
       "0      survivants    0.188908\n",
       "1  non survivants    0.811092"
      ]
     },
     "execution_count": 13,
     "metadata": {},
     "output_type": "execute_result"
    }
   ],
   "source": [
    "df_male=df[df[\"Sex\"]==\"male\"]\n",
    "df_female=df[df[\"Sex\"]==\"female\"]\n",
    "\n",
    "ms=df_male[df_male[\"Survived\"]==1].shape[0]/df_male.shape[0]\n",
    "mns=df_male[df_male[\"Survived\"]==0].shape[0]/df_male.shape[0]\n",
    "mf=df_female[df_female[\"Survived\"]==1].shape[0]/df_female.shape[0]\n",
    "mnf=df_female[df_female[\"Survived\"]==0].shape[0]/df_female.shape[0]\n",
    "\n",
    "\n",
    "valeurs_hommes, valeurs_femmes=[[ \"survivants\",ms],[\"non survivants\",mns]], [[\"survivantes\",mf],[\"non survivantes\",mnf]]\n",
    "\n",
    "pd.DataFrame(data=valeurs_hommes,columns=[\"Homme survivant\",\"proportion\"])\n",
    "\n"
   ]
  },
  {
   "cell_type": "code",
   "execution_count": 14,
   "id": "a14afbcf",
   "metadata": {},
   "outputs": [
    {
     "data": {
      "text/html": [
       "<div>\n",
       "<style scoped>\n",
       "    .dataframe tbody tr th:only-of-type {\n",
       "        vertical-align: middle;\n",
       "    }\n",
       "\n",
       "    .dataframe tbody tr th {\n",
       "        vertical-align: top;\n",
       "    }\n",
       "\n",
       "    .dataframe thead th {\n",
       "        text-align: right;\n",
       "    }\n",
       "</style>\n",
       "<table border=\"1\" class=\"dataframe\">\n",
       "  <thead>\n",
       "    <tr style=\"text-align: right;\">\n",
       "      <th></th>\n",
       "      <th>Femme survivant</th>\n",
       "      <th>proportion</th>\n",
       "    </tr>\n",
       "  </thead>\n",
       "  <tbody>\n",
       "    <tr>\n",
       "      <th>0</th>\n",
       "      <td>survivantes</td>\n",
       "      <td>0.742038</td>\n",
       "    </tr>\n",
       "    <tr>\n",
       "      <th>1</th>\n",
       "      <td>non survivantes</td>\n",
       "      <td>0.257962</td>\n",
       "    </tr>\n",
       "  </tbody>\n",
       "</table>\n",
       "</div>"
      ],
      "text/plain": [
       "   Femme survivant  proportion\n",
       "0      survivantes    0.742038\n",
       "1  non survivantes    0.257962"
      ]
     },
     "execution_count": 14,
     "metadata": {},
     "output_type": "execute_result"
    }
   ],
   "source": [
    "pd.DataFrame(data=valeurs_femmes,columns=[\"Femme survivant\",\"proportion\"])"
   ]
  },
  {
   "cell_type": "markdown",
   "id": "1fa3351d",
   "metadata": {},
   "source": [
    "`On voit que 74% des femmes ont survécu au naufrage contre seulement 19% pour les hommes.`\n",
    "\n",
    "Effectuons maintenant un tableau de contingence."
   ]
  },
  {
   "cell_type": "code",
   "execution_count": 19,
   "id": "01530108",
   "metadata": {},
   "outputs": [
    {
     "data": {
      "text/html": [
       "<div>\n",
       "<style scoped>\n",
       "    .dataframe tbody tr th:only-of-type {\n",
       "        vertical-align: middle;\n",
       "    }\n",
       "\n",
       "    .dataframe tbody tr th {\n",
       "        vertical-align: top;\n",
       "    }\n",
       "\n",
       "    .dataframe thead th {\n",
       "        text-align: right;\n",
       "    }\n",
       "</style>\n",
       "<table border=\"1\" class=\"dataframe\">\n",
       "  <thead>\n",
       "    <tr style=\"text-align: right;\">\n",
       "      <th>Sex</th>\n",
       "      <th>female</th>\n",
       "      <th>male</th>\n",
       "    </tr>\n",
       "    <tr>\n",
       "      <th>Survived</th>\n",
       "      <th></th>\n",
       "      <th></th>\n",
       "    </tr>\n",
       "  </thead>\n",
       "  <tbody>\n",
       "    <tr>\n",
       "      <th>0</th>\n",
       "      <td>81</td>\n",
       "      <td>468</td>\n",
       "    </tr>\n",
       "    <tr>\n",
       "      <th>1</th>\n",
       "      <td>233</td>\n",
       "      <td>109</td>\n",
       "    </tr>\n",
       "  </tbody>\n",
       "</table>\n",
       "</div>"
      ],
      "text/plain": [
       "Sex       female  male\n",
       "Survived              \n",
       "0             81   468\n",
       "1            233   109"
      ]
     },
     "execution_count": 19,
     "metadata": {},
     "output_type": "execute_result"
    }
   ],
   "source": [
    "pd.crosstab(df[\"Survived\"],df[\"Sex\"])"
   ]
  },
  {
   "cell_type": "markdown",
   "id": "257a6a62",
   "metadata": {},
   "source": [
    "* Il y a $n=891$ individus.\n",
    "* $P(Survivre)=342/891$\n",
    "* $P(ne\\ pas\\ survivre)=549/891$\n",
    "* $P(Etre\\ une\\ femme)=314/891$\n",
    "* $P(Etre\\ un\\ homme)=577/891$ \n",
    " \n",
    "Par la formules de Bayes, nous avons:\n",
    "* $P(Etre\\ une\\ femme\\ |\\ survivante)=233/342$\n",
    "* $P(Etre\\ une\\ femme \\ |\\ ne\\ pas\\ survivre)=81/549$\n",
    "* $P(Etre\\ un\\ homme \\ | \\ survivant)=109/342$\n",
    "* $P(Etre\\ un\\ homme \\ |\\ ne\\ pas\\ survivre)=468/549$ "
   ]
  },
  {
   "cell_type": "markdown",
   "id": "9d473a2b",
   "metadata": {},
   "source": [
    "*   $P(\\ survivant \\ | \\ Etre\\ un\\ homme \\ )=109/577\\approx 0.19$     \n",
    "*   $P(ne\\ pas\\ survivre\\ | \\ Etre\\ un\\ homme \\ )=468/577\\approx 0.83$\n"
   ]
  },
  {
   "cell_type": "markdown",
   "id": "d1e67e39",
   "metadata": {},
   "source": [
    "\n",
    "* $P(\\ survivante \\ | \\ Etre\\ une\\ femme \\ )=233/314\\approx 0.74$\n",
    "* $P(ne\\ pas\\ survivre\\ | \\ Etre\\ une\\ femme \\ )=81/314 \\approx0.26$\n",
    "\n",
    "`La probilité pour un homme de survivre au naufrage du titanic était seulement de 0.19 tandis que pour les femmes la probabilité était nettement plus haute avec 0.74`"
   ]
  },
  {
   "cell_type": "code",
   "execution_count": 20,
   "id": "f9b367c3",
   "metadata": {},
   "outputs": [
    {
     "data": {
      "text/html": [
       "<div>\n",
       "<style scoped>\n",
       "    .dataframe tbody tr th:only-of-type {\n",
       "        vertical-align: middle;\n",
       "    }\n",
       "\n",
       "    .dataframe tbody tr th {\n",
       "        vertical-align: top;\n",
       "    }\n",
       "\n",
       "    .dataframe thead th {\n",
       "        text-align: right;\n",
       "    }\n",
       "</style>\n",
       "<table border=\"1\" class=\"dataframe\">\n",
       "  <thead>\n",
       "    <tr style=\"text-align: right;\">\n",
       "      <th>Embarked</th>\n",
       "      <th>C</th>\n",
       "      <th>Q</th>\n",
       "      <th>S</th>\n",
       "    </tr>\n",
       "    <tr>\n",
       "      <th>Survived</th>\n",
       "      <th></th>\n",
       "      <th></th>\n",
       "      <th></th>\n",
       "    </tr>\n",
       "  </thead>\n",
       "  <tbody>\n",
       "    <tr>\n",
       "      <th>0</th>\n",
       "      <td>75</td>\n",
       "      <td>47</td>\n",
       "      <td>427</td>\n",
       "    </tr>\n",
       "    <tr>\n",
       "      <th>1</th>\n",
       "      <td>93</td>\n",
       "      <td>30</td>\n",
       "      <td>217</td>\n",
       "    </tr>\n",
       "  </tbody>\n",
       "</table>\n",
       "</div>"
      ],
      "text/plain": [
       "Embarked   C   Q    S\n",
       "Survived             \n",
       "0         75  47  427\n",
       "1         93  30  217"
      ]
     },
     "execution_count": 20,
     "metadata": {},
     "output_type": "execute_result"
    }
   ],
   "source": [
    "pd.crosstab(df[\"Survived\"],df[\"Embarked\"])"
   ]
  },
  {
   "cell_type": "markdown",
   "id": "4ba2ffcb",
   "metadata": {},
   "source": [
    "\n",
    "* $P(\\ survivant \\ | \\ Embarquement \\ C \\ )=93/168 \\approx 0.55$\n",
    "* $P(ne\\ pas\\ survivre\\ | \\ Embarquement\\ C )=75/168 \\approx 0.45$ "
   ]
  },
  {
   "cell_type": "markdown",
   "id": "b453cc60",
   "metadata": {},
   "source": [
    "* $P(\\ survivant \\ | \\ Embarquement \\ Q \\ )=30/77 \\approx 0.40$\n",
    "* $P(ne\\ pas\\ survivre\\ | \\ Embarquement\\ Q  )=47/77 \\approx 0.60$"
   ]
  },
  {
   "cell_type": "markdown",
   "id": "ed30d226",
   "metadata": {},
   "source": [
    "\n",
    "* $P(\\ survivant \\ | \\ Embarquement \\ S \\ )=217/644 \\approx 0.34$\n",
    "* $P(ne\\ pas\\ survivre\\ | \\ Embarquement\\ S )=427/644 \\approx 0.66$\n",
    "\n",
    "`Il semblerait que la probabilité de survivre était plus faible pour les passagers qui ont embarqué au point S`"
   ]
  },
  {
   "cell_type": "markdown",
   "id": "b24e8bfb",
   "metadata": {},
   "source": [
    "# Classification\n",
    "\n",
    "Dans cette partie nous allons entrainer un algorithme à reconnaitre les survivants.\n",
    "\n",
    "Dans un premiers temps on identifie les variables qui sont corrélé linéairement avec la variable target.\n",
    "Affichons une carte graphique afin d'avoir un indicateur sur les correlations entre les différentes variables."
   ]
  },
  {
   "cell_type": "code",
   "execution_count": 21,
   "id": "e2a04ed1",
   "metadata": {},
   "outputs": [
    {
     "data": {
      "image/png": "[encoded data removed]",
      "text/plain": [
       "<Figure size 432x288 with 2 Axes>"
      ]
     },
     "metadata": {
      "needs_background": "light"
     },
     "output_type": "display_data"
    }
   ],
   "source": [
    "sns.heatmap(data.corr())\n",
    "plt.show()"
   ]
  },
  {
   "cell_type": "markdown",
   "id": "0c876b94",
   "metadata": {},
   "source": [
    "Effectuons un tri sur les variables à conserver et remplaçons les valeurs manquantes par leurs valeurs median."
   ]
  },
  {
   "cell_type": "code",
   "execution_count": 22,
   "id": "e81cafbf",
   "metadata": {},
   "outputs": [
    {
     "name": "stdout",
     "output_type": "stream",
     "text": [
      "['female' 'male']\n",
      "['C' 'Q' 'S' 'U']\n"
     ]
    },
    {
     "data": {
      "text/html": [
       "<div>\n",
       "<style scoped>\n",
       "    .dataframe tbody tr th:only-of-type {\n",
       "        vertical-align: middle;\n",
       "    }\n",
       "\n",
       "    .dataframe tbody tr th {\n",
       "        vertical-align: top;\n",
       "    }\n",
       "\n",
       "    .dataframe thead th {\n",
       "        text-align: right;\n",
       "    }\n",
       "</style>\n",
       "<table border=\"1\" class=\"dataframe\">\n",
       "  <thead>\n",
       "    <tr style=\"text-align: right;\">\n",
       "      <th></th>\n",
       "      <th>Survived</th>\n",
       "      <th>Pclass</th>\n",
       "      <th>Sex</th>\n",
       "      <th>Age</th>\n",
       "      <th>SibSp</th>\n",
       "      <th>Parch</th>\n",
       "      <th>Fare</th>\n",
       "      <th>Embarked</th>\n",
       "    </tr>\n",
       "  </thead>\n",
       "  <tbody>\n",
       "    <tr>\n",
       "      <th>0</th>\n",
       "      <td>0</td>\n",
       "      <td>3</td>\n",
       "      <td>1</td>\n",
       "      <td>22.0</td>\n",
       "      <td>1</td>\n",
       "      <td>0</td>\n",
       "      <td>7.2500</td>\n",
       "      <td>2</td>\n",
       "    </tr>\n",
       "    <tr>\n",
       "      <th>1</th>\n",
       "      <td>1</td>\n",
       "      <td>1</td>\n",
       "      <td>0</td>\n",
       "      <td>38.0</td>\n",
       "      <td>1</td>\n",
       "      <td>0</td>\n",
       "      <td>71.2833</td>\n",
       "      <td>0</td>\n",
       "    </tr>\n",
       "    <tr>\n",
       "      <th>2</th>\n",
       "      <td>1</td>\n",
       "      <td>3</td>\n",
       "      <td>0</td>\n",
       "      <td>26.0</td>\n",
       "      <td>0</td>\n",
       "      <td>0</td>\n",
       "      <td>7.9250</td>\n",
       "      <td>2</td>\n",
       "    </tr>\n",
       "    <tr>\n",
       "      <th>3</th>\n",
       "      <td>1</td>\n",
       "      <td>1</td>\n",
       "      <td>0</td>\n",
       "      <td>35.0</td>\n",
       "      <td>1</td>\n",
       "      <td>0</td>\n",
       "      <td>53.1000</td>\n",
       "      <td>2</td>\n",
       "    </tr>\n",
       "    <tr>\n",
       "      <th>4</th>\n",
       "      <td>0</td>\n",
       "      <td>3</td>\n",
       "      <td>1</td>\n",
       "      <td>35.0</td>\n",
       "      <td>0</td>\n",
       "      <td>0</td>\n",
       "      <td>8.0500</td>\n",
       "      <td>2</td>\n",
       "    </tr>\n",
       "  </tbody>\n",
       "</table>\n",
       "</div>"
      ],
      "text/plain": [
       "   Survived  Pclass  Sex   Age  SibSp  Parch     Fare  Embarked\n",
       "0         0       3    1  22.0      1      0   7.2500         2\n",
       "1         1       1    0  38.0      1      0  71.2833         0\n",
       "2         1       3    0  26.0      0      0   7.9250         2\n",
       "3         1       1    0  35.0      1      0  53.1000         2\n",
       "4         0       3    1  35.0      0      0   8.0500         2"
      ]
     },
     "execution_count": 22,
     "metadata": {},
     "output_type": "execute_result"
    }
   ],
   "source": [
    "from sklearn import preprocessing\n",
    "def clean(data):\n",
    "    inutile=[\"PassengerId\",\"Name\",\"Cabin\",\"Ticket\"]\n",
    "    data=data.drop(inutile,axis=1)\n",
    "    cols=[\"Parch\",\"Age\",\"SibSp\",\"Fare\"]\n",
    "    for col in cols:\n",
    "        data[col].fillna(data[col].median(),inplace = True)\n",
    "    data[\"Embarked\"].fillna(\"U\", inplace=True)\n",
    "    return data\n",
    "data=clean(data)\n",
    "test=clean(test)\n",
    "L=preprocessing.LabelEncoder()\n",
    "\n",
    "cols=[\"Sex\",\"Embarked\"]\n",
    "for col in cols:\n",
    "    data[col]=L.fit_transform(data[col])#?\n",
    "    test[col]=L.transform(test[col])#?\n",
    "    print(L.classes_)#pour voir comment s'est effectuer la transformation\n",
    "data.head()"
   ]
  },
  {
   "cell_type": "markdown",
   "id": "c8447ab4",
   "metadata": {},
   "source": [
    "On va maintenant isoler la variable target des autres variables et couper les données en deux pour avoir des données d'entrainement et des données test."
   ]
  },
  {
   "cell_type": "code",
   "execution_count": 23,
   "id": "42bc7ebc",
   "metadata": {},
   "outputs": [],
   "source": [
    "\n",
    "target=data[\"Survived\"]\n",
    "data=data.drop(\"Survived\", axis=1)\n",
    "\n",
    "data_train,data_test,target_train,target_test=train_test_split(data,target,train_size=0.8,random_state=42)"
   ]
  },
  {
   "cell_type": "markdown",
   "id": "9cd6033a",
   "metadata": {},
   "source": [
    "La variable target ne comporte que deux valeurs possible, il est donc judicieux d'effectuer une regression logistique pour prédire les valeurs."
   ]
  },
  {
   "cell_type": "code",
   "execution_count": 24,
   "id": "db545c63",
   "metadata": {},
   "outputs": [
    {
     "data": {
      "text/plain": [
       "0.8100558659217877"
      ]
     },
     "execution_count": 24,
     "metadata": {},
     "output_type": "execute_result"
    }
   ],
   "source": [
    "clf=LogisticRegression(random_state=0,max_iter=1000).fit(data_train,target_train)\n",
    "prediction=clf.predict(data_test)\n",
    "accuracy_score(target_test,prediction)"
   ]
  },
  {
   "cell_type": "markdown",
   "id": "9732c4d6",
   "metadata": {},
   "source": [
    "On aurait également utiliser une méthode de prédiction.\n",
    "\n",
    "On peut par exemple utiliser la classification par forêt aléatoire, il faudra cependant optimiser les hyper parametres."
   ]
  },
  {
   "cell_type": "code",
   "execution_count": 25,
   "id": "a64a2dd0",
   "metadata": {},
   "outputs": [
    {
     "data": {
      "text/plain": [
       "GridSearchCV(cv=3, estimator=RandomForestClassifier(),\n",
       "             param_grid={'max_depth': [None, 5, 10],\n",
       "                         'min_samples_split': [2, 3, 4],\n",
       "                         'n_estimators': [50, 100, 200, 500]},\n",
       "             return_train_score=True, scoring='accuracy')"
      ]
     },
     "execution_count": 25,
     "metadata": {},
     "output_type": "execute_result"
    }
   ],
   "source": [
    "forest=RandomForestClassifier()\n",
    "\n",
    "param_grid={\"n_estimators\":[50,100,200,500],\"max_depth\":[None, 5, 10], \"min_samples_split\":[2,3,4]}\n",
    "\n",
    "grid_search=GridSearchCV(forest,param_grid,cv=3, scoring=\"accuracy\",return_train_score=True)\n",
    "\n",
    "grid_search.fit(data,target)\n"
   ]
  },
  {
   "cell_type": "code",
   "execution_count": 26,
   "id": "7b5d1760",
   "metadata": {},
   "outputs": [],
   "source": [
    "tree=grid_search.best_estimator_\n"
   ]
  }
 ],
 "metadata": {
  "kernelspec": {
   "display_name": "Python 3 (ipykernel)",
   "language": "python",
   "name": "python3"
  },
  "language_info": {
   "codemirror_mode": {
    "name": "ipython",
    "version": 3
   },
   "file_extension": ".py",
   "mimetype": "text/x-python",
   "name": "python",
   "nbconvert_exporter": "python",
   "pygments_lexer": "ipython3",
   "version": "3.9.12"
  }
 },
 "nbformat": 4,
 "nbformat_minor": 5
}
